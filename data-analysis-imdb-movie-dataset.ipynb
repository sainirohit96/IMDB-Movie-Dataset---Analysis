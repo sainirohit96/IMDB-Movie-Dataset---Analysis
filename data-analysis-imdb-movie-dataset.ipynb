{
 "cells": [
  {
   "cell_type": "code",
   "execution_count": 54,
   "id": "d15cb0e4",
   "metadata": {
    "_cell_guid": "b1076dfc-b9ad-4769-8c92-a6c4dae69d19",
    "_uuid": "8f2839f25d086af736a60e9eeb907d3b93b6e0e5",
    "execution": {
     "iopub.execute_input": "2022-10-07T08:19:49.390919Z",
     "iopub.status.busy": "2022-10-07T08:19:49.390233Z",
     "iopub.status.idle": "2022-10-07T08:19:49.411137Z",
     "shell.execute_reply": "2022-10-07T08:19:49.409670Z"
    },
    "papermill": {
     "duration": 0.042465,
     "end_time": "2022-10-07T08:19:49.414539",
     "exception": false,
     "start_time": "2022-10-07T08:19:49.372074",
     "status": "completed"
    },
    "scrolled": true,
    "tags": []
   },
   "outputs": [],
   "source": [
    "import numpy as np\n",
    "import pandas as pd \n",
    "import matplotlib.pyplot as plt\n",
    "import seaborn as sns"
   ]
  },
  {
   "cell_type": "code",
   "execution_count": 53,
   "id": "d7072d13",
   "metadata": {
    "execution": {
     "iopub.execute_input": "2022-10-07T08:19:49.477000Z",
     "iopub.status.busy": "2022-10-07T08:19:49.475573Z",
     "iopub.status.idle": "2022-10-07T08:19:49.481900Z",
     "shell.execute_reply": "2022-10-07T08:19:49.480513Z"
    },
    "papermill": {
     "duration": 0.025536,
     "end_time": "2022-10-07T08:19:49.484785",
     "exception": false,
     "start_time": "2022-10-07T08:19:49.459249",
     "status": "completed"
    },
    "tags": []
   },
   "outputs": [],
   "source": [
    "import warnings\n",
    "warnings.filterwarnings('ignore')"
   ]
  },
  {
   "cell_type": "code",
   "execution_count": 3,
   "id": "141d2c2e",
   "metadata": {
    "execution": {
     "iopub.execute_input": "2022-10-07T08:19:49.516730Z",
     "iopub.status.busy": "2022-10-07T08:19:49.516183Z",
     "iopub.status.idle": "2022-10-07T08:19:49.551537Z",
     "shell.execute_reply": "2022-10-07T08:19:49.550515Z"
    },
    "papermill": {
     "duration": 0.054575,
     "end_time": "2022-10-07T08:19:49.554523",
     "exception": false,
     "start_time": "2022-10-07T08:19:49.499948",
     "status": "completed"
    },
    "tags": []
   },
   "outputs": [],
   "source": [
    "data = pd.read_csv('IMDB-Movie-Data.csv')"
   ]
  },
  {
   "cell_type": "markdown",
   "id": "23f8c9af",
   "metadata": {
    "execution": {
     "iopub.execute_input": "2022-10-07T05:28:53.867396Z",
     "iopub.status.busy": "2022-10-07T05:28:53.866112Z",
     "iopub.status.idle": "2022-10-07T05:28:53.897473Z",
     "shell.execute_reply": "2022-10-07T05:28:53.896329Z",
     "shell.execute_reply.started": "2022-10-07T05:28:53.867351Z"
    },
    "papermill": {
     "duration": 0.014809,
     "end_time": "2022-10-07T08:19:49.584016",
     "exception": false,
     "start_time": "2022-10-07T08:19:49.569207",
     "status": "completed"
    },
    "tags": []
   },
   "source": [
    "# 1. Display Top 10 Rows of The Dataset"
   ]
  },
  {
   "cell_type": "code",
   "execution_count": 4,
   "id": "4eeda79e",
   "metadata": {
    "execution": {
     "iopub.execute_input": "2022-10-07T08:19:49.615811Z",
     "iopub.status.busy": "2022-10-07T08:19:49.615330Z",
     "iopub.status.idle": "2022-10-07T08:19:49.655282Z",
     "shell.execute_reply": "2022-10-07T08:19:49.653794Z"
    },
    "papermill": {
     "duration": 0.059301,
     "end_time": "2022-10-07T08:19:49.658096",
     "exception": false,
     "start_time": "2022-10-07T08:19:49.598795",
     "status": "completed"
    },
    "tags": []
   },
   "outputs": [
    {
     "data": {
      "text/html": [
       "<div>\n",
       "<style scoped>\n",
       "    .dataframe tbody tr th:only-of-type {\n",
       "        vertical-align: middle;\n",
       "    }\n",
       "\n",
       "    .dataframe tbody tr th {\n",
       "        vertical-align: top;\n",
       "    }\n",
       "\n",
       "    .dataframe thead th {\n",
       "        text-align: right;\n",
       "    }\n",
       "</style>\n",
       "<table border=\"1\" class=\"dataframe\">\n",
       "  <thead>\n",
       "    <tr style=\"text-align: right;\">\n",
       "      <th></th>\n",
       "      <th>Rank</th>\n",
       "      <th>Title</th>\n",
       "      <th>Genre</th>\n",
       "      <th>Description</th>\n",
       "      <th>Director</th>\n",
       "      <th>Actors</th>\n",
       "      <th>Year</th>\n",
       "      <th>Runtime (Minutes)</th>\n",
       "      <th>Rating</th>\n",
       "      <th>Votes</th>\n",
       "      <th>Revenue (Millions)</th>\n",
       "      <th>Metascore</th>\n",
       "    </tr>\n",
       "  </thead>\n",
       "  <tbody>\n",
       "    <tr>\n",
       "      <th>0</th>\n",
       "      <td>1</td>\n",
       "      <td>Guardians of the Galaxy</td>\n",
       "      <td>Action,Adventure,Sci-Fi</td>\n",
       "      <td>A group of intergalactic criminals are forced ...</td>\n",
       "      <td>James Gunn</td>\n",
       "      <td>Chris Pratt, Vin Diesel, Bradley Cooper, Zoe S...</td>\n",
       "      <td>2014</td>\n",
       "      <td>121</td>\n",
       "      <td>8.1</td>\n",
       "      <td>757074</td>\n",
       "      <td>333.13</td>\n",
       "      <td>76.0</td>\n",
       "    </tr>\n",
       "    <tr>\n",
       "      <th>1</th>\n",
       "      <td>2</td>\n",
       "      <td>Prometheus</td>\n",
       "      <td>Adventure,Mystery,Sci-Fi</td>\n",
       "      <td>Following clues to the origin of mankind, a te...</td>\n",
       "      <td>Ridley Scott</td>\n",
       "      <td>Noomi Rapace, Logan Marshall-Green, Michael Fa...</td>\n",
       "      <td>2012</td>\n",
       "      <td>124</td>\n",
       "      <td>7.0</td>\n",
       "      <td>485820</td>\n",
       "      <td>126.46</td>\n",
       "      <td>65.0</td>\n",
       "    </tr>\n",
       "    <tr>\n",
       "      <th>2</th>\n",
       "      <td>3</td>\n",
       "      <td>Split</td>\n",
       "      <td>Horror,Thriller</td>\n",
       "      <td>Three girls are kidnapped by a man with a diag...</td>\n",
       "      <td>M. Night Shyamalan</td>\n",
       "      <td>James McAvoy, Anya Taylor-Joy, Haley Lu Richar...</td>\n",
       "      <td>2016</td>\n",
       "      <td>117</td>\n",
       "      <td>7.3</td>\n",
       "      <td>157606</td>\n",
       "      <td>138.12</td>\n",
       "      <td>62.0</td>\n",
       "    </tr>\n",
       "    <tr>\n",
       "      <th>3</th>\n",
       "      <td>4</td>\n",
       "      <td>Sing</td>\n",
       "      <td>Animation,Comedy,Family</td>\n",
       "      <td>In a city of humanoid animals, a hustling thea...</td>\n",
       "      <td>Christophe Lourdelet</td>\n",
       "      <td>Matthew McConaughey,Reese Witherspoon, Seth Ma...</td>\n",
       "      <td>2016</td>\n",
       "      <td>108</td>\n",
       "      <td>7.2</td>\n",
       "      <td>60545</td>\n",
       "      <td>270.32</td>\n",
       "      <td>59.0</td>\n",
       "    </tr>\n",
       "    <tr>\n",
       "      <th>4</th>\n",
       "      <td>5</td>\n",
       "      <td>Suicide Squad</td>\n",
       "      <td>Action,Adventure,Fantasy</td>\n",
       "      <td>A secret government agency recruits some of th...</td>\n",
       "      <td>David Ayer</td>\n",
       "      <td>Will Smith, Jared Leto, Margot Robbie, Viola D...</td>\n",
       "      <td>2016</td>\n",
       "      <td>123</td>\n",
       "      <td>6.2</td>\n",
       "      <td>393727</td>\n",
       "      <td>325.02</td>\n",
       "      <td>40.0</td>\n",
       "    </tr>\n",
       "    <tr>\n",
       "      <th>5</th>\n",
       "      <td>6</td>\n",
       "      <td>The Great Wall</td>\n",
       "      <td>Action,Adventure,Fantasy</td>\n",
       "      <td>European mercenaries searching for black powde...</td>\n",
       "      <td>Yimou Zhang</td>\n",
       "      <td>Matt Damon, Tian Jing, Willem Dafoe, Andy Lau</td>\n",
       "      <td>2016</td>\n",
       "      <td>103</td>\n",
       "      <td>6.1</td>\n",
       "      <td>56036</td>\n",
       "      <td>45.13</td>\n",
       "      <td>42.0</td>\n",
       "    </tr>\n",
       "    <tr>\n",
       "      <th>6</th>\n",
       "      <td>7</td>\n",
       "      <td>La La Land</td>\n",
       "      <td>Comedy,Drama,Music</td>\n",
       "      <td>A jazz pianist falls for an aspiring actress i...</td>\n",
       "      <td>Damien Chazelle</td>\n",
       "      <td>Ryan Gosling, Emma Stone, Rosemarie DeWitt, J....</td>\n",
       "      <td>2016</td>\n",
       "      <td>128</td>\n",
       "      <td>8.3</td>\n",
       "      <td>258682</td>\n",
       "      <td>151.06</td>\n",
       "      <td>93.0</td>\n",
       "    </tr>\n",
       "    <tr>\n",
       "      <th>7</th>\n",
       "      <td>8</td>\n",
       "      <td>Mindhorn</td>\n",
       "      <td>Comedy</td>\n",
       "      <td>A has-been actor best known for playing the ti...</td>\n",
       "      <td>Sean Foley</td>\n",
       "      <td>Essie Davis, Andrea Riseborough, Julian Barrat...</td>\n",
       "      <td>2016</td>\n",
       "      <td>89</td>\n",
       "      <td>6.4</td>\n",
       "      <td>2490</td>\n",
       "      <td>NaN</td>\n",
       "      <td>71.0</td>\n",
       "    </tr>\n",
       "    <tr>\n",
       "      <th>8</th>\n",
       "      <td>9</td>\n",
       "      <td>The Lost City of Z</td>\n",
       "      <td>Action,Adventure,Biography</td>\n",
       "      <td>A true-life drama, centering on British explor...</td>\n",
       "      <td>James Gray</td>\n",
       "      <td>Charlie Hunnam, Robert Pattinson, Sienna Mille...</td>\n",
       "      <td>2016</td>\n",
       "      <td>141</td>\n",
       "      <td>7.1</td>\n",
       "      <td>7188</td>\n",
       "      <td>8.01</td>\n",
       "      <td>78.0</td>\n",
       "    </tr>\n",
       "    <tr>\n",
       "      <th>9</th>\n",
       "      <td>10</td>\n",
       "      <td>Passengers</td>\n",
       "      <td>Adventure,Drama,Romance</td>\n",
       "      <td>A spacecraft traveling to a distant colony pla...</td>\n",
       "      <td>Morten Tyldum</td>\n",
       "      <td>Jennifer Lawrence, Chris Pratt, Michael Sheen,...</td>\n",
       "      <td>2016</td>\n",
       "      <td>116</td>\n",
       "      <td>7.0</td>\n",
       "      <td>192177</td>\n",
       "      <td>100.01</td>\n",
       "      <td>41.0</td>\n",
       "    </tr>\n",
       "  </tbody>\n",
       "</table>\n",
       "</div>"
      ],
      "text/plain": [
       "   Rank                    Title                       Genre  \\\n",
       "0     1  Guardians of the Galaxy     Action,Adventure,Sci-Fi   \n",
       "1     2               Prometheus    Adventure,Mystery,Sci-Fi   \n",
       "2     3                    Split             Horror,Thriller   \n",
       "3     4                     Sing     Animation,Comedy,Family   \n",
       "4     5            Suicide Squad    Action,Adventure,Fantasy   \n",
       "5     6           The Great Wall    Action,Adventure,Fantasy   \n",
       "6     7               La La Land          Comedy,Drama,Music   \n",
       "7     8                 Mindhorn                      Comedy   \n",
       "8     9       The Lost City of Z  Action,Adventure,Biography   \n",
       "9    10               Passengers     Adventure,Drama,Romance   \n",
       "\n",
       "                                         Description              Director  \\\n",
       "0  A group of intergalactic criminals are forced ...            James Gunn   \n",
       "1  Following clues to the origin of mankind, a te...          Ridley Scott   \n",
       "2  Three girls are kidnapped by a man with a diag...    M. Night Shyamalan   \n",
       "3  In a city of humanoid animals, a hustling thea...  Christophe Lourdelet   \n",
       "4  A secret government agency recruits some of th...            David Ayer   \n",
       "5  European mercenaries searching for black powde...           Yimou Zhang   \n",
       "6  A jazz pianist falls for an aspiring actress i...       Damien Chazelle   \n",
       "7  A has-been actor best known for playing the ti...            Sean Foley   \n",
       "8  A true-life drama, centering on British explor...            James Gray   \n",
       "9  A spacecraft traveling to a distant colony pla...         Morten Tyldum   \n",
       "\n",
       "                                              Actors  Year  Runtime (Minutes)  \\\n",
       "0  Chris Pratt, Vin Diesel, Bradley Cooper, Zoe S...  2014                121   \n",
       "1  Noomi Rapace, Logan Marshall-Green, Michael Fa...  2012                124   \n",
       "2  James McAvoy, Anya Taylor-Joy, Haley Lu Richar...  2016                117   \n",
       "3  Matthew McConaughey,Reese Witherspoon, Seth Ma...  2016                108   \n",
       "4  Will Smith, Jared Leto, Margot Robbie, Viola D...  2016                123   \n",
       "5      Matt Damon, Tian Jing, Willem Dafoe, Andy Lau  2016                103   \n",
       "6  Ryan Gosling, Emma Stone, Rosemarie DeWitt, J....  2016                128   \n",
       "7  Essie Davis, Andrea Riseborough, Julian Barrat...  2016                 89   \n",
       "8  Charlie Hunnam, Robert Pattinson, Sienna Mille...  2016                141   \n",
       "9  Jennifer Lawrence, Chris Pratt, Michael Sheen,...  2016                116   \n",
       "\n",
       "   Rating   Votes  Revenue (Millions)  Metascore  \n",
       "0     8.1  757074              333.13       76.0  \n",
       "1     7.0  485820              126.46       65.0  \n",
       "2     7.3  157606              138.12       62.0  \n",
       "3     7.2   60545              270.32       59.0  \n",
       "4     6.2  393727              325.02       40.0  \n",
       "5     6.1   56036               45.13       42.0  \n",
       "6     8.3  258682              151.06       93.0  \n",
       "7     6.4    2490                 NaN       71.0  \n",
       "8     7.1    7188                8.01       78.0  \n",
       "9     7.0  192177              100.01       41.0  "
      ]
     },
     "execution_count": 4,
     "metadata": {},
     "output_type": "execute_result"
    }
   ],
   "source": [
    "data.head(10)"
   ]
  },
  {
   "cell_type": "markdown",
   "id": "99ede81d",
   "metadata": {
    "papermill": {
     "duration": 0.014218,
     "end_time": "2022-10-07T08:19:49.686978",
     "exception": false,
     "start_time": "2022-10-07T08:19:49.672760",
     "status": "completed"
    },
    "tags": []
   },
   "source": [
    "# 2. Check Last 10 Rows of The Dataset"
   ]
  },
  {
   "cell_type": "code",
   "execution_count": 5,
   "id": "88960047",
   "metadata": {
    "execution": {
     "iopub.execute_input": "2022-10-07T08:19:49.718926Z",
     "iopub.status.busy": "2022-10-07T08:19:49.717915Z",
     "iopub.status.idle": "2022-10-07T08:19:49.740172Z",
     "shell.execute_reply": "2022-10-07T08:19:49.738647Z"
    },
    "papermill": {
     "duration": 0.04122,
     "end_time": "2022-10-07T08:19:49.742702",
     "exception": false,
     "start_time": "2022-10-07T08:19:49.701482",
     "status": "completed"
    },
    "tags": []
   },
   "outputs": [
    {
     "data": {
      "text/html": [
       "<div>\n",
       "<style scoped>\n",
       "    .dataframe tbody tr th:only-of-type {\n",
       "        vertical-align: middle;\n",
       "    }\n",
       "\n",
       "    .dataframe tbody tr th {\n",
       "        vertical-align: top;\n",
       "    }\n",
       "\n",
       "    .dataframe thead th {\n",
       "        text-align: right;\n",
       "    }\n",
       "</style>\n",
       "<table border=\"1\" class=\"dataframe\">\n",
       "  <thead>\n",
       "    <tr style=\"text-align: right;\">\n",
       "      <th></th>\n",
       "      <th>Rank</th>\n",
       "      <th>Title</th>\n",
       "      <th>Genre</th>\n",
       "      <th>Description</th>\n",
       "      <th>Director</th>\n",
       "      <th>Actors</th>\n",
       "      <th>Year</th>\n",
       "      <th>Runtime (Minutes)</th>\n",
       "      <th>Rating</th>\n",
       "      <th>Votes</th>\n",
       "      <th>Revenue (Millions)</th>\n",
       "      <th>Metascore</th>\n",
       "    </tr>\n",
       "  </thead>\n",
       "  <tbody>\n",
       "    <tr>\n",
       "      <th>990</th>\n",
       "      <td>991</td>\n",
       "      <td>Underworld: Rise of the Lycans</td>\n",
       "      <td>Action,Adventure,Fantasy</td>\n",
       "      <td>An origins story centered on the centuries-old...</td>\n",
       "      <td>Patrick Tatopoulos</td>\n",
       "      <td>Rhona Mitra, Michael Sheen, Bill Nighy, Steven...</td>\n",
       "      <td>2009</td>\n",
       "      <td>92</td>\n",
       "      <td>6.6</td>\n",
       "      <td>129708</td>\n",
       "      <td>45.80</td>\n",
       "      <td>44.0</td>\n",
       "    </tr>\n",
       "    <tr>\n",
       "      <th>991</th>\n",
       "      <td>992</td>\n",
       "      <td>Taare Zameen Par</td>\n",
       "      <td>Drama,Family,Music</td>\n",
       "      <td>An eight-year-old boy is thought to be a lazy ...</td>\n",
       "      <td>Aamir Khan</td>\n",
       "      <td>Darsheel Safary, Aamir Khan, Tanay Chheda, Sac...</td>\n",
       "      <td>2007</td>\n",
       "      <td>165</td>\n",
       "      <td>8.5</td>\n",
       "      <td>102697</td>\n",
       "      <td>1.20</td>\n",
       "      <td>42.0</td>\n",
       "    </tr>\n",
       "    <tr>\n",
       "      <th>992</th>\n",
       "      <td>993</td>\n",
       "      <td>Take Me Home Tonight</td>\n",
       "      <td>Comedy,Drama,Romance</td>\n",
       "      <td>Four years after graduation, an awkward high s...</td>\n",
       "      <td>Michael Dowse</td>\n",
       "      <td>Topher Grace, Anna Faris, Dan Fogler, Teresa P...</td>\n",
       "      <td>2011</td>\n",
       "      <td>97</td>\n",
       "      <td>6.3</td>\n",
       "      <td>45419</td>\n",
       "      <td>6.92</td>\n",
       "      <td>NaN</td>\n",
       "    </tr>\n",
       "    <tr>\n",
       "      <th>993</th>\n",
       "      <td>994</td>\n",
       "      <td>Resident Evil: Afterlife</td>\n",
       "      <td>Action,Adventure,Horror</td>\n",
       "      <td>While still out to destroy the evil Umbrella C...</td>\n",
       "      <td>Paul W.S. Anderson</td>\n",
       "      <td>Milla Jovovich, Ali Larter, Wentworth Miller,K...</td>\n",
       "      <td>2010</td>\n",
       "      <td>97</td>\n",
       "      <td>5.9</td>\n",
       "      <td>140900</td>\n",
       "      <td>60.13</td>\n",
       "      <td>37.0</td>\n",
       "    </tr>\n",
       "    <tr>\n",
       "      <th>994</th>\n",
       "      <td>995</td>\n",
       "      <td>Project X</td>\n",
       "      <td>Comedy</td>\n",
       "      <td>3 high school seniors throw a birthday party t...</td>\n",
       "      <td>Nima Nourizadeh</td>\n",
       "      <td>Thomas Mann, Oliver Cooper, Jonathan Daniel Br...</td>\n",
       "      <td>2012</td>\n",
       "      <td>88</td>\n",
       "      <td>6.7</td>\n",
       "      <td>164088</td>\n",
       "      <td>54.72</td>\n",
       "      <td>48.0</td>\n",
       "    </tr>\n",
       "    <tr>\n",
       "      <th>995</th>\n",
       "      <td>996</td>\n",
       "      <td>Secret in Their Eyes</td>\n",
       "      <td>Crime,Drama,Mystery</td>\n",
       "      <td>A tight-knit team of rising investigators, alo...</td>\n",
       "      <td>Billy Ray</td>\n",
       "      <td>Chiwetel Ejiofor, Nicole Kidman, Julia Roberts...</td>\n",
       "      <td>2015</td>\n",
       "      <td>111</td>\n",
       "      <td>6.2</td>\n",
       "      <td>27585</td>\n",
       "      <td>NaN</td>\n",
       "      <td>45.0</td>\n",
       "    </tr>\n",
       "    <tr>\n",
       "      <th>996</th>\n",
       "      <td>997</td>\n",
       "      <td>Hostel: Part II</td>\n",
       "      <td>Horror</td>\n",
       "      <td>Three American college students studying abroa...</td>\n",
       "      <td>Eli Roth</td>\n",
       "      <td>Lauren German, Heather Matarazzo, Bijou Philli...</td>\n",
       "      <td>2007</td>\n",
       "      <td>94</td>\n",
       "      <td>5.5</td>\n",
       "      <td>73152</td>\n",
       "      <td>17.54</td>\n",
       "      <td>46.0</td>\n",
       "    </tr>\n",
       "    <tr>\n",
       "      <th>997</th>\n",
       "      <td>998</td>\n",
       "      <td>Step Up 2: The Streets</td>\n",
       "      <td>Drama,Music,Romance</td>\n",
       "      <td>Romantic sparks occur between two dance studen...</td>\n",
       "      <td>Jon M. Chu</td>\n",
       "      <td>Robert Hoffman, Briana Evigan, Cassie Ventura,...</td>\n",
       "      <td>2008</td>\n",
       "      <td>98</td>\n",
       "      <td>6.2</td>\n",
       "      <td>70699</td>\n",
       "      <td>58.01</td>\n",
       "      <td>50.0</td>\n",
       "    </tr>\n",
       "    <tr>\n",
       "      <th>998</th>\n",
       "      <td>999</td>\n",
       "      <td>Search Party</td>\n",
       "      <td>Adventure,Comedy</td>\n",
       "      <td>A pair of friends embark on a mission to reuni...</td>\n",
       "      <td>Scot Armstrong</td>\n",
       "      <td>Adam Pally, T.J. Miller, Thomas Middleditch,Sh...</td>\n",
       "      <td>2014</td>\n",
       "      <td>93</td>\n",
       "      <td>5.6</td>\n",
       "      <td>4881</td>\n",
       "      <td>NaN</td>\n",
       "      <td>22.0</td>\n",
       "    </tr>\n",
       "    <tr>\n",
       "      <th>999</th>\n",
       "      <td>1000</td>\n",
       "      <td>Nine Lives</td>\n",
       "      <td>Comedy,Family,Fantasy</td>\n",
       "      <td>A stuffy businessman finds himself trapped ins...</td>\n",
       "      <td>Barry Sonnenfeld</td>\n",
       "      <td>Kevin Spacey, Jennifer Garner, Robbie Amell,Ch...</td>\n",
       "      <td>2016</td>\n",
       "      <td>87</td>\n",
       "      <td>5.3</td>\n",
       "      <td>12435</td>\n",
       "      <td>19.64</td>\n",
       "      <td>11.0</td>\n",
       "    </tr>\n",
       "  </tbody>\n",
       "</table>\n",
       "</div>"
      ],
      "text/plain": [
       "     Rank                           Title                     Genre  \\\n",
       "990   991  Underworld: Rise of the Lycans  Action,Adventure,Fantasy   \n",
       "991   992                Taare Zameen Par        Drama,Family,Music   \n",
       "992   993            Take Me Home Tonight      Comedy,Drama,Romance   \n",
       "993   994        Resident Evil: Afterlife   Action,Adventure,Horror   \n",
       "994   995                       Project X                    Comedy   \n",
       "995   996            Secret in Their Eyes       Crime,Drama,Mystery   \n",
       "996   997                 Hostel: Part II                    Horror   \n",
       "997   998          Step Up 2: The Streets       Drama,Music,Romance   \n",
       "998   999                    Search Party          Adventure,Comedy   \n",
       "999  1000                      Nine Lives     Comedy,Family,Fantasy   \n",
       "\n",
       "                                           Description            Director  \\\n",
       "990  An origins story centered on the centuries-old...  Patrick Tatopoulos   \n",
       "991  An eight-year-old boy is thought to be a lazy ...          Aamir Khan   \n",
       "992  Four years after graduation, an awkward high s...       Michael Dowse   \n",
       "993  While still out to destroy the evil Umbrella C...  Paul W.S. Anderson   \n",
       "994  3 high school seniors throw a birthday party t...     Nima Nourizadeh   \n",
       "995  A tight-knit team of rising investigators, alo...           Billy Ray   \n",
       "996  Three American college students studying abroa...            Eli Roth   \n",
       "997  Romantic sparks occur between two dance studen...          Jon M. Chu   \n",
       "998  A pair of friends embark on a mission to reuni...      Scot Armstrong   \n",
       "999  A stuffy businessman finds himself trapped ins...    Barry Sonnenfeld   \n",
       "\n",
       "                                                Actors  Year  \\\n",
       "990  Rhona Mitra, Michael Sheen, Bill Nighy, Steven...  2009   \n",
       "991  Darsheel Safary, Aamir Khan, Tanay Chheda, Sac...  2007   \n",
       "992  Topher Grace, Anna Faris, Dan Fogler, Teresa P...  2011   \n",
       "993  Milla Jovovich, Ali Larter, Wentworth Miller,K...  2010   \n",
       "994  Thomas Mann, Oliver Cooper, Jonathan Daniel Br...  2012   \n",
       "995  Chiwetel Ejiofor, Nicole Kidman, Julia Roberts...  2015   \n",
       "996  Lauren German, Heather Matarazzo, Bijou Philli...  2007   \n",
       "997  Robert Hoffman, Briana Evigan, Cassie Ventura,...  2008   \n",
       "998  Adam Pally, T.J. Miller, Thomas Middleditch,Sh...  2014   \n",
       "999  Kevin Spacey, Jennifer Garner, Robbie Amell,Ch...  2016   \n",
       "\n",
       "     Runtime (Minutes)  Rating   Votes  Revenue (Millions)  Metascore  \n",
       "990                 92     6.6  129708               45.80       44.0  \n",
       "991                165     8.5  102697                1.20       42.0  \n",
       "992                 97     6.3   45419                6.92        NaN  \n",
       "993                 97     5.9  140900               60.13       37.0  \n",
       "994                 88     6.7  164088               54.72       48.0  \n",
       "995                111     6.2   27585                 NaN       45.0  \n",
       "996                 94     5.5   73152               17.54       46.0  \n",
       "997                 98     6.2   70699               58.01       50.0  \n",
       "998                 93     5.6    4881                 NaN       22.0  \n",
       "999                 87     5.3   12435               19.64       11.0  "
      ]
     },
     "execution_count": 5,
     "metadata": {},
     "output_type": "execute_result"
    }
   ],
   "source": [
    "data.tail(10)"
   ]
  },
  {
   "cell_type": "markdown",
   "id": "221432f4",
   "metadata": {
    "execution": {
     "iopub.execute_input": "2022-10-07T05:32:37.224670Z",
     "iopub.status.busy": "2022-10-07T05:32:37.224157Z",
     "iopub.status.idle": "2022-10-07T05:32:37.230098Z",
     "shell.execute_reply": "2022-10-07T05:32:37.228700Z",
     "shell.execute_reply.started": "2022-10-07T05:32:37.224616Z"
    },
    "papermill": {
     "duration": 0.015511,
     "end_time": "2022-10-07T08:19:49.774744",
     "exception": false,
     "start_time": "2022-10-07T08:19:49.759233",
     "status": "completed"
    },
    "tags": []
   },
   "source": [
    "# 3. Find Shape of Our Dataset (Number of Rows And Number of Columns)"
   ]
  },
  {
   "cell_type": "code",
   "execution_count": 6,
   "id": "2ed00606",
   "metadata": {
    "execution": {
     "iopub.execute_input": "2022-10-07T08:19:49.809463Z",
     "iopub.status.busy": "2022-10-07T08:19:49.808560Z",
     "iopub.status.idle": "2022-10-07T08:19:49.816502Z",
     "shell.execute_reply": "2022-10-07T08:19:49.815205Z"
    },
    "papermill": {
     "duration": 0.028336,
     "end_time": "2022-10-07T08:19:49.819100",
     "exception": false,
     "start_time": "2022-10-07T08:19:49.790764",
     "status": "completed"
    },
    "tags": []
   },
   "outputs": [
    {
     "data": {
      "text/plain": [
       "(1000, 12)"
      ]
     },
     "execution_count": 6,
     "metadata": {},
     "output_type": "execute_result"
    }
   ],
   "source": [
    "data.shape"
   ]
  },
  {
   "cell_type": "code",
   "execution_count": 7,
   "id": "a91d0dd6",
   "metadata": {
    "execution": {
     "iopub.execute_input": "2022-10-07T08:19:49.854126Z",
     "iopub.status.busy": "2022-10-07T08:19:49.853623Z",
     "iopub.status.idle": "2022-10-07T08:19:49.859806Z",
     "shell.execute_reply": "2022-10-07T08:19:49.858508Z"
    },
    "papermill": {
     "duration": 0.026921,
     "end_time": "2022-10-07T08:19:49.862698",
     "exception": false,
     "start_time": "2022-10-07T08:19:49.835777",
     "status": "completed"
    },
    "tags": []
   },
   "outputs": [
    {
     "name": "stdout",
     "output_type": "stream",
     "text": [
      "Number of Rows 1000\n",
      "Number of Columns 12\n"
     ]
    }
   ],
   "source": [
    "print('Number of Rows',data.shape[0])\n",
    "print('Number of Columns',data.shape[1])"
   ]
  },
  {
   "cell_type": "markdown",
   "id": "da2d1898",
   "metadata": {
    "papermill": {
     "duration": 0.016007,
     "end_time": "2022-10-07T08:19:49.895274",
     "exception": false,
     "start_time": "2022-10-07T08:19:49.879267",
     "status": "completed"
    },
    "tags": []
   },
   "source": [
    "# 4. Getting Information About Our Dataset Like Total Number Rows, Total Number of Columns, Datatypes of Each Column And Memory Requirement"
   ]
  },
  {
   "cell_type": "code",
   "execution_count": 8,
   "id": "06fe950a",
   "metadata": {
    "execution": {
     "iopub.execute_input": "2022-10-07T08:19:49.928707Z",
     "iopub.status.busy": "2022-10-07T08:19:49.928177Z",
     "iopub.status.idle": "2022-10-07T08:19:49.957516Z",
     "shell.execute_reply": "2022-10-07T08:19:49.955833Z"
    },
    "papermill": {
     "duration": 0.049272,
     "end_time": "2022-10-07T08:19:49.960097",
     "exception": false,
     "start_time": "2022-10-07T08:19:49.910825",
     "status": "completed"
    },
    "tags": []
   },
   "outputs": [
    {
     "name": "stdout",
     "output_type": "stream",
     "text": [
      "<class 'pandas.core.frame.DataFrame'>\n",
      "RangeIndex: 1000 entries, 0 to 999\n",
      "Data columns (total 12 columns):\n",
      " #   Column              Non-Null Count  Dtype  \n",
      "---  ------              --------------  -----  \n",
      " 0   Rank                1000 non-null   int64  \n",
      " 1   Title               1000 non-null   object \n",
      " 2   Genre               1000 non-null   object \n",
      " 3   Description         1000 non-null   object \n",
      " 4   Director            1000 non-null   object \n",
      " 5   Actors              1000 non-null   object \n",
      " 6   Year                1000 non-null   int64  \n",
      " 7   Runtime (Minutes)   1000 non-null   int64  \n",
      " 8   Rating              1000 non-null   float64\n",
      " 9   Votes               1000 non-null   int64  \n",
      " 10  Revenue (Millions)  872 non-null    float64\n",
      " 11  Metascore           936 non-null    float64\n",
      "dtypes: float64(3), int64(4), object(5)\n",
      "memory usage: 93.9+ KB\n"
     ]
    }
   ],
   "source": [
    "data.info()"
   ]
  },
  {
   "cell_type": "markdown",
   "id": "20d51026",
   "metadata": {
    "papermill": {
     "duration": 0.014866,
     "end_time": "2022-10-07T08:19:49.990352",
     "exception": false,
     "start_time": "2022-10-07T08:19:49.975486",
     "status": "completed"
    },
    "tags": []
   },
   "source": [
    "# 5. Check Null Values In The Dataset"
   ]
  },
  {
   "cell_type": "code",
   "execution_count": 9,
   "id": "9365fcc3",
   "metadata": {
    "execution": {
     "iopub.execute_input": "2022-10-07T08:19:50.022964Z",
     "iopub.status.busy": "2022-10-07T08:19:50.022505Z",
     "iopub.status.idle": "2022-10-07T08:19:50.032822Z",
     "shell.execute_reply": "2022-10-07T08:19:50.031940Z"
    },
    "papermill": {
     "duration": 0.02924,
     "end_time": "2022-10-07T08:19:50.034824",
     "exception": false,
     "start_time": "2022-10-07T08:19:50.005584",
     "status": "completed"
    },
    "tags": []
   },
   "outputs": [
    {
     "data": {
      "text/plain": [
       "Rank                    0\n",
       "Title                   0\n",
       "Genre                   0\n",
       "Description             0\n",
       "Director                0\n",
       "Actors                  0\n",
       "Year                    0\n",
       "Runtime (Minutes)       0\n",
       "Rating                  0\n",
       "Votes                   0\n",
       "Revenue (Millions)    128\n",
       "Metascore              64\n",
       "dtype: int64"
      ]
     },
     "execution_count": 9,
     "metadata": {},
     "output_type": "execute_result"
    }
   ],
   "source": [
    "data.isnull().sum()"
   ]
  },
  {
   "cell_type": "code",
   "execution_count": 10,
   "id": "27539a7d",
   "metadata": {
    "execution": {
     "iopub.execute_input": "2022-10-07T08:19:50.072528Z",
     "iopub.status.busy": "2022-10-07T08:19:50.071562Z",
     "iopub.status.idle": "2022-10-07T08:19:51.780806Z",
     "shell.execute_reply": "2022-10-07T08:19:51.779805Z"
    },
    "papermill": {
     "duration": 1.733293,
     "end_time": "2022-10-07T08:19:51.783760",
     "exception": false,
     "start_time": "2022-10-07T08:19:50.050467",
     "status": "completed"
    },
    "tags": []
   },
   "outputs": [
    {
     "data": {
      "image/png": "[encoded data removed]",
      "text/plain": [
       "<Figure size 640x480 with 2 Axes>"
      ]
     },
     "metadata": {},
     "output_type": "display_data"
    }
   ],
   "source": [
    "sns.heatmap(data.isnull())\n",
    "plt.show()"
   ]
  },
  {
   "cell_type": "markdown",
   "id": "99ec8771",
   "metadata": {
    "papermill": {
     "duration": 0.017266,
     "end_time": "2022-10-07T08:19:51.818757",
     "exception": false,
     "start_time": "2022-10-07T08:19:51.801491",
     "status": "completed"
    },
    "tags": []
   },
   "source": [
    "# 6. Drop All The Missing Values"
   ]
  },
  {
   "cell_type": "code",
   "execution_count": 11,
   "id": "37bd24a5",
   "metadata": {
    "execution": {
     "iopub.execute_input": "2022-10-07T08:19:51.857621Z",
     "iopub.status.busy": "2022-10-07T08:19:51.856684Z",
     "iopub.status.idle": "2022-10-07T08:19:51.868602Z",
     "shell.execute_reply": "2022-10-07T08:19:51.867244Z"
    },
    "papermill": {
     "duration": 0.035585,
     "end_time": "2022-10-07T08:19:51.871761",
     "exception": false,
     "start_time": "2022-10-07T08:19:51.836176",
     "status": "completed"
    },
    "tags": []
   },
   "outputs": [],
   "source": [
    "data = data.dropna(axis=0)"
   ]
  },
  {
   "cell_type": "code",
   "execution_count": 12,
   "id": "bf8d468d",
   "metadata": {
    "execution": {
     "iopub.execute_input": "2022-10-07T08:19:51.906341Z",
     "iopub.status.busy": "2022-10-07T08:19:51.905767Z",
     "iopub.status.idle": "2022-10-07T08:19:52.365899Z",
     "shell.execute_reply": "2022-10-07T08:19:52.364501Z"
    },
    "papermill": {
     "duration": 0.480599,
     "end_time": "2022-10-07T08:19:52.368342",
     "exception": false,
     "start_time": "2022-10-07T08:19:51.887743",
     "status": "completed"
    },
    "tags": []
   },
   "outputs": [
    {
     "data": {
      "image/png": "[encoded data removed]",
      "text/plain": [
       "<Figure size 640x480 with 2 Axes>"
      ]
     },
     "metadata": {},
     "output_type": "display_data"
    }
   ],
   "source": [
    "sns.heatmap(data.isnull())\n",
    "plt.show()"
   ]
  },
  {
   "cell_type": "markdown",
   "id": "259c0735",
   "metadata": {
    "papermill": {
     "duration": 0.015446,
     "end_time": "2022-10-07T08:19:52.399577",
     "exception": false,
     "start_time": "2022-10-07T08:19:52.384131",
     "status": "completed"
    },
    "tags": []
   },
   "source": [
    "# 7. Check For Duplicate Data"
   ]
  },
  {
   "cell_type": "code",
   "execution_count": 13,
   "id": "4c5b437d",
   "metadata": {
    "execution": {
     "iopub.execute_input": "2022-10-07T08:19:52.433734Z",
     "iopub.status.busy": "2022-10-07T08:19:52.432922Z",
     "iopub.status.idle": "2022-10-07T08:19:52.446845Z",
     "shell.execute_reply": "2022-10-07T08:19:52.445357Z"
    },
    "papermill": {
     "duration": 0.034317,
     "end_time": "2022-10-07T08:19:52.449719",
     "exception": false,
     "start_time": "2022-10-07T08:19:52.415402",
     "status": "completed"
    },
    "tags": []
   },
   "outputs": [
    {
     "name": "stdout",
     "output_type": "stream",
     "text": [
      "Are there any duplicated values in data? False\n"
     ]
    }
   ],
   "source": [
    "dup_data=data.duplicated().any()\n",
    "print(\"Are there any duplicated values in data?\",dup_data)"
   ]
  },
  {
   "cell_type": "markdown",
   "id": "54bb19da",
   "metadata": {
    "papermill": {
     "duration": 0.015404,
     "end_time": "2022-10-07T08:19:52.481174",
     "exception": false,
     "start_time": "2022-10-07T08:19:52.465770",
     "status": "completed"
    },
    "tags": []
   },
   "source": [
    "# 8. Get Overall Statistics About The DataFrame"
   ]
  },
  {
   "cell_type": "code",
   "execution_count": 14,
   "id": "ae33234c",
   "metadata": {
    "execution": {
     "iopub.execute_input": "2022-10-07T08:19:52.515555Z",
     "iopub.status.busy": "2022-10-07T08:19:52.515020Z",
     "iopub.status.idle": "2022-10-07T08:19:52.553009Z",
     "shell.execute_reply": "2022-10-07T08:19:52.551785Z"
    },
    "papermill": {
     "duration": 0.058856,
     "end_time": "2022-10-07T08:19:52.555869",
     "exception": false,
     "start_time": "2022-10-07T08:19:52.497013",
     "status": "completed"
    },
    "tags": []
   },
   "outputs": [
    {
     "data": {
      "text/html": [
       "<div>\n",
       "<style scoped>\n",
       "    .dataframe tbody tr th:only-of-type {\n",
       "        vertical-align: middle;\n",
       "    }\n",
       "\n",
       "    .dataframe tbody tr th {\n",
       "        vertical-align: top;\n",
       "    }\n",
       "\n",
       "    .dataframe thead th {\n",
       "        text-align: right;\n",
       "    }\n",
       "</style>\n",
       "<table border=\"1\" class=\"dataframe\">\n",
       "  <thead>\n",
       "    <tr style=\"text-align: right;\">\n",
       "      <th></th>\n",
       "      <th>count</th>\n",
       "      <th>mean</th>\n",
       "      <th>std</th>\n",
       "      <th>min</th>\n",
       "      <th>25%</th>\n",
       "      <th>50%</th>\n",
       "      <th>75%</th>\n",
       "      <th>max</th>\n",
       "    </tr>\n",
       "  </thead>\n",
       "  <tbody>\n",
       "    <tr>\n",
       "      <th>Rank</th>\n",
       "      <td>838.0</td>\n",
       "      <td>485.247017</td>\n",
       "      <td>286.572065</td>\n",
       "      <td>1.0</td>\n",
       "      <td>238.2500</td>\n",
       "      <td>475.50</td>\n",
       "      <td>729.75</td>\n",
       "      <td>1000.00</td>\n",
       "    </tr>\n",
       "    <tr>\n",
       "      <th>Year</th>\n",
       "      <td>838.0</td>\n",
       "      <td>2012.507160</td>\n",
       "      <td>3.172360</td>\n",
       "      <td>2006.0</td>\n",
       "      <td>2010.0000</td>\n",
       "      <td>2013.00</td>\n",
       "      <td>2015.00</td>\n",
       "      <td>2016.00</td>\n",
       "    </tr>\n",
       "    <tr>\n",
       "      <th>Runtime (Minutes)</th>\n",
       "      <td>838.0</td>\n",
       "      <td>114.638425</td>\n",
       "      <td>18.470922</td>\n",
       "      <td>66.0</td>\n",
       "      <td>101.0000</td>\n",
       "      <td>112.00</td>\n",
       "      <td>124.00</td>\n",
       "      <td>187.00</td>\n",
       "    </tr>\n",
       "    <tr>\n",
       "      <th>Rating</th>\n",
       "      <td>838.0</td>\n",
       "      <td>6.814320</td>\n",
       "      <td>0.877754</td>\n",
       "      <td>1.9</td>\n",
       "      <td>6.3000</td>\n",
       "      <td>6.90</td>\n",
       "      <td>7.50</td>\n",
       "      <td>9.00</td>\n",
       "    </tr>\n",
       "    <tr>\n",
       "      <th>Votes</th>\n",
       "      <td>838.0</td>\n",
       "      <td>193230.251790</td>\n",
       "      <td>193099.005104</td>\n",
       "      <td>178.0</td>\n",
       "      <td>61276.5000</td>\n",
       "      <td>136879.50</td>\n",
       "      <td>271083.00</td>\n",
       "      <td>1791916.00</td>\n",
       "    </tr>\n",
       "    <tr>\n",
       "      <th>Revenue (Millions)</th>\n",
       "      <td>838.0</td>\n",
       "      <td>84.564558</td>\n",
       "      <td>104.520227</td>\n",
       "      <td>0.0</td>\n",
       "      <td>13.9675</td>\n",
       "      <td>48.15</td>\n",
       "      <td>116.80</td>\n",
       "      <td>936.63</td>\n",
       "    </tr>\n",
       "    <tr>\n",
       "      <th>Metascore</th>\n",
       "      <td>838.0</td>\n",
       "      <td>59.575179</td>\n",
       "      <td>16.952416</td>\n",
       "      <td>11.0</td>\n",
       "      <td>47.0000</td>\n",
       "      <td>60.00</td>\n",
       "      <td>72.00</td>\n",
       "      <td>100.00</td>\n",
       "    </tr>\n",
       "  </tbody>\n",
       "</table>\n",
       "</div>"
      ],
      "text/plain": [
       "                    count           mean            std     min         25%  \\\n",
       "Rank                838.0     485.247017     286.572065     1.0    238.2500   \n",
       "Year                838.0    2012.507160       3.172360  2006.0   2010.0000   \n",
       "Runtime (Minutes)   838.0     114.638425      18.470922    66.0    101.0000   \n",
       "Rating              838.0       6.814320       0.877754     1.9      6.3000   \n",
       "Votes               838.0  193230.251790  193099.005104   178.0  61276.5000   \n",
       "Revenue (Millions)  838.0      84.564558     104.520227     0.0     13.9675   \n",
       "Metascore           838.0      59.575179      16.952416    11.0     47.0000   \n",
       "\n",
       "                          50%        75%         max  \n",
       "Rank                   475.50     729.75     1000.00  \n",
       "Year                  2013.00    2015.00     2016.00  \n",
       "Runtime (Minutes)      112.00     124.00      187.00  \n",
       "Rating                   6.90       7.50        9.00  \n",
       "Votes               136879.50  271083.00  1791916.00  \n",
       "Revenue (Millions)      48.15     116.80      936.63  \n",
       "Metascore               60.00      72.00      100.00  "
      ]
     },
     "execution_count": 14,
     "metadata": {},
     "output_type": "execute_result"
    }
   ],
   "source": [
    "data.describe().T"
   ]
  },
  {
   "cell_type": "markdown",
   "id": "538e4b6e",
   "metadata": {
    "papermill": {
     "duration": 0.017346,
     "end_time": "2022-10-07T08:19:52.590981",
     "exception": false,
     "start_time": "2022-10-07T08:19:52.573635",
     "status": "completed"
    },
    "tags": []
   },
   "source": [
    "# 9. Display Title of The Movie Having Runtime >= 180 Minutes"
   ]
  },
  {
   "cell_type": "code",
   "execution_count": 15,
   "id": "70a071ee",
   "metadata": {},
   "outputs": [
    {
     "data": {
      "text/plain": [
       "Index(['Rank', 'Title', 'Genre', 'Description', 'Director', 'Actors', 'Year',\n",
       "       'Runtime (Minutes)', 'Rating', 'Votes', 'Revenue (Millions)',\n",
       "       'Metascore'],\n",
       "      dtype='object')"
      ]
     },
     "execution_count": 15,
     "metadata": {},
     "output_type": "execute_result"
    }
   ],
   "source": [
    "data.columns"
   ]
  },
  {
   "cell_type": "code",
   "execution_count": 16,
   "id": "3a4f02de",
   "metadata": {
    "execution": {
     "iopub.execute_input": "2022-10-07T08:19:52.627992Z",
     "iopub.status.busy": "2022-10-07T08:19:52.627459Z",
     "iopub.status.idle": "2022-10-07T08:19:52.638530Z",
     "shell.execute_reply": "2022-10-07T08:19:52.637137Z"
    },
    "papermill": {
     "duration": 0.03273,
     "end_time": "2022-10-07T08:19:52.641196",
     "exception": false,
     "start_time": "2022-10-07T08:19:52.608466",
     "status": "completed"
    },
    "tags": []
   },
   "outputs": [
    {
     "data": {
      "text/plain": [
       "82     The Wolf of Wall Street\n",
       "88           The Hateful Eight\n",
       "311             La vie d'Adèle\n",
       "Name: Title, dtype: object"
      ]
     },
     "execution_count": 16,
     "metadata": {},
     "output_type": "execute_result"
    }
   ],
   "source": [
    "data[data['Runtime (Minutes)']>=180]['Title']"
   ]
  },
  {
   "cell_type": "markdown",
   "id": "c9f6db18",
   "metadata": {
    "papermill": {
     "duration": 0.016591,
     "end_time": "2022-10-07T08:19:52.676958",
     "exception": false,
     "start_time": "2022-10-07T08:19:52.660367",
     "status": "completed"
    },
    "tags": []
   },
   "source": [
    "# 10. In Which Year There Was The Highest Average Voting?"
   ]
  },
  {
   "cell_type": "code",
   "execution_count": 17,
   "id": "1b7f0062",
   "metadata": {},
   "outputs": [
    {
     "data": {
      "text/plain": [
       "Year\n",
       "2012    290861.483871\n",
       "2006    277232.219512\n",
       "2009    267180.577778\n",
       "2008    266580.145833\n",
       "2007    266530.704545\n",
       "2010    261082.929825\n",
       "2011    259254.736842\n",
       "2013    225531.892857\n",
       "2014    211926.881720\n",
       "2015    129512.651376\n",
       "2016     68437.823232\n",
       "Name: Votes, dtype: float64"
      ]
     },
     "execution_count": 17,
     "metadata": {},
     "output_type": "execute_result"
    }
   ],
   "source": [
    "data.groupby('Year')['Votes'].mean().sort_values(ascending=False)"
   ]
  },
  {
   "cell_type": "code",
   "execution_count": 18,
   "id": "c8303ab9",
   "metadata": {
    "execution": {
     "iopub.execute_input": "2022-10-07T08:19:52.712601Z",
     "iopub.status.busy": "2022-10-07T08:19:52.711594Z",
     "iopub.status.idle": "2022-10-07T08:19:53.235894Z",
     "shell.execute_reply": "2022-10-07T08:19:53.234530Z"
    },
    "papermill": {
     "duration": 0.545753,
     "end_time": "2022-10-07T08:19:53.239084",
     "exception": false,
     "start_time": "2022-10-07T08:19:52.693331",
     "status": "completed"
    },
    "scrolled": true,
    "tags": []
   },
   "outputs": [
    {
     "data": {
      "image/png": "[encoded data removed]",
      "text/plain": [
       "<Figure size 640x480 with 1 Axes>"
      ]
     },
     "metadata": {},
     "output_type": "display_data"
    }
   ],
   "source": [
    "sns.barplot(x='Year',y='Votes',data=data)\n",
    "plt.title(\"Votes By Year\")\n",
    "plt.show()"
   ]
  },
  {
   "cell_type": "markdown",
   "id": "886fcf72",
   "metadata": {
    "papermill": {
     "duration": 0.016115,
     "end_time": "2022-10-07T08:19:53.272715",
     "exception": false,
     "start_time": "2022-10-07T08:19:53.256600",
     "status": "completed"
    },
    "tags": []
   },
   "source": [
    "# 11. In Which Year There Was The Highest Average Revenue?"
   ]
  },
  {
   "cell_type": "code",
   "execution_count": 19,
   "id": "cd4c78de",
   "metadata": {},
   "outputs": [
    {
     "data": {
      "text/plain": [
       "Year\n",
       "2009    115.742000\n",
       "2012    110.103065\n",
       "2010    105.081579\n",
       "2008     97.525417\n",
       "2011     93.703333\n",
       "Name: Revenue (Millions), dtype: float64"
      ]
     },
     "execution_count": 19,
     "metadata": {},
     "output_type": "execute_result"
    }
   ],
   "source": [
    "data.groupby('Year')['Revenue (Millions)'].mean().sort_values(ascending=False).head()"
   ]
  },
  {
   "cell_type": "code",
   "execution_count": 20,
   "id": "c7957fbe",
   "metadata": {
    "execution": {
     "iopub.execute_input": "2022-10-07T08:19:53.311087Z",
     "iopub.status.busy": "2022-10-07T08:19:53.309739Z",
     "iopub.status.idle": "2022-10-07T08:19:53.848364Z",
     "shell.execute_reply": "2022-10-07T08:19:53.847009Z"
    },
    "papermill": {
     "duration": 0.559911,
     "end_time": "2022-10-07T08:19:53.851205",
     "exception": false,
     "start_time": "2022-10-07T08:19:53.291294",
     "status": "completed"
    },
    "tags": []
   },
   "outputs": [
    {
     "data": {
      "image/png": "[encoded data removed]",
      "text/plain": [
       "<Figure size 640x480 with 1 Axes>"
      ]
     },
     "metadata": {},
     "output_type": "display_data"
    }
   ],
   "source": [
    "sns.barplot(x='Year',y='Revenue (Millions)',data=data)\n",
    "plt.title(\"Revenue By Year\")\n",
    "plt.show()"
   ]
  },
  {
   "cell_type": "markdown",
   "id": "c984ed51",
   "metadata": {
    "papermill": {
     "duration": 0.017786,
     "end_time": "2022-10-07T08:19:53.887294",
     "exception": false,
     "start_time": "2022-10-07T08:19:53.869508",
     "status": "completed"
    },
    "tags": []
   },
   "source": [
    "# 12. Find The Average Rating For Each Director"
   ]
  },
  {
   "cell_type": "code",
   "execution_count": 21,
   "id": "c47b5920",
   "metadata": {
    "execution": {
     "iopub.execute_input": "2022-10-07T08:19:53.925664Z",
     "iopub.status.busy": "2022-10-07T08:19:53.925093Z",
     "iopub.status.idle": "2022-10-07T08:19:53.939705Z",
     "shell.execute_reply": "2022-10-07T08:19:53.938462Z"
    },
    "papermill": {
     "duration": 0.037065,
     "end_time": "2022-10-07T08:19:53.942270",
     "exception": false,
     "start_time": "2022-10-07T08:19:53.905205",
     "status": "completed"
    },
    "tags": []
   },
   "outputs": [
    {
     "data": {
      "text/plain": [
       "Director\n",
       "Christopher Nolan                   8.68\n",
       "Olivier Nakache                     8.60\n",
       "Makoto Shinkai                      8.60\n",
       "Florian Henckel von Donnersmarck    8.50\n",
       "Aamir Khan                          8.50\n",
       "                                    ... \n",
       "Sam Taylor-Johnson                  4.10\n",
       "Joey Curtis                         4.00\n",
       "George Nolfi                        3.90\n",
       "James Wong                          2.70\n",
       "Jason Friedberg                     1.90\n",
       "Name: Rating, Length: 524, dtype: float64"
      ]
     },
     "execution_count": 21,
     "metadata": {},
     "output_type": "execute_result"
    }
   ],
   "source": [
    "data.groupby('Director')['Rating'].mean().sort_values(ascending=False)"
   ]
  },
  {
   "cell_type": "markdown",
   "id": "aa36f48b",
   "metadata": {
    "papermill": {
     "duration": 0.016595,
     "end_time": "2022-10-07T08:19:53.976652",
     "exception": false,
     "start_time": "2022-10-07T08:19:53.960057",
     "status": "completed"
    },
    "tags": []
   },
   "source": [
    "# 13. Display Top 10 Lengthy Movies Title"
   ]
  },
  {
   "cell_type": "code",
   "execution_count": 22,
   "id": "fca53572",
   "metadata": {
    "execution": {
     "iopub.execute_input": "2022-10-07T08:19:54.015082Z",
     "iopub.status.busy": "2022-10-07T08:19:54.013619Z",
     "iopub.status.idle": "2022-10-07T08:19:54.024566Z",
     "shell.execute_reply": "2022-10-07T08:19:54.023076Z"
    },
    "papermill": {
     "duration": 0.033465,
     "end_time": "2022-10-07T08:19:54.027830",
     "exception": false,
     "start_time": "2022-10-07T08:19:53.994365",
     "status": "completed"
    },
    "tags": []
   },
   "outputs": [
    {
     "data": {
      "text/html": [
       "<div>\n",
       "<style scoped>\n",
       "    .dataframe tbody tr th:only-of-type {\n",
       "        vertical-align: middle;\n",
       "    }\n",
       "\n",
       "    .dataframe tbody tr th {\n",
       "        vertical-align: top;\n",
       "    }\n",
       "\n",
       "    .dataframe thead th {\n",
       "        text-align: right;\n",
       "    }\n",
       "</style>\n",
       "<table border=\"1\" class=\"dataframe\">\n",
       "  <thead>\n",
       "    <tr style=\"text-align: right;\">\n",
       "      <th></th>\n",
       "      <th>Runtime (Minutes)</th>\n",
       "    </tr>\n",
       "    <tr>\n",
       "      <th>Title</th>\n",
       "      <th></th>\n",
       "    </tr>\n",
       "  </thead>\n",
       "  <tbody>\n",
       "    <tr>\n",
       "      <th>The Hateful Eight</th>\n",
       "      <td>187</td>\n",
       "    </tr>\n",
       "    <tr>\n",
       "      <th>The Wolf of Wall Street</th>\n",
       "      <td>180</td>\n",
       "    </tr>\n",
       "    <tr>\n",
       "      <th>La vie d'Adèle</th>\n",
       "      <td>180</td>\n",
       "    </tr>\n",
       "    <tr>\n",
       "      <th>Cloud Atlas</th>\n",
       "      <td>172</td>\n",
       "    </tr>\n",
       "    <tr>\n",
       "      <th>3 Idiots</th>\n",
       "      <td>170</td>\n",
       "    </tr>\n",
       "    <tr>\n",
       "      <th>Interstellar</th>\n",
       "      <td>169</td>\n",
       "    </tr>\n",
       "    <tr>\n",
       "      <th>Pirates of the Caribbean: At World's End</th>\n",
       "      <td>169</td>\n",
       "    </tr>\n",
       "    <tr>\n",
       "      <th>The Hobbit: An Unexpected Journey</th>\n",
       "      <td>169</td>\n",
       "    </tr>\n",
       "    <tr>\n",
       "      <th>The Curious Case of Benjamin Button</th>\n",
       "      <td>166</td>\n",
       "    </tr>\n",
       "    <tr>\n",
       "      <th>Transformers: Age of Extinction</th>\n",
       "      <td>165</td>\n",
       "    </tr>\n",
       "  </tbody>\n",
       "</table>\n",
       "</div>"
      ],
      "text/plain": [
       "                                          Runtime (Minutes)\n",
       "Title                                                      \n",
       "The Hateful Eight                                       187\n",
       "The Wolf of Wall Street                                 180\n",
       "La vie d'Adèle                                          180\n",
       "Cloud Atlas                                             172\n",
       "3 Idiots                                                170\n",
       "Interstellar                                            169\n",
       "Pirates of the Caribbean: At World's End                169\n",
       "The Hobbit: An Unexpected Journey                       169\n",
       "The Curious Case of Benjamin Button                     166\n",
       "Transformers: Age of Extinction                         165"
      ]
     },
     "execution_count": 22,
     "metadata": {},
     "output_type": "execute_result"
    }
   ],
   "source": [
    "le =data.nlargest(10,'Runtime (Minutes)')[['Title','Runtime (Minutes)']].set_index('Title')\n",
    "le"
   ]
  },
  {
   "cell_type": "markdown",
   "id": "21acc081",
   "metadata": {},
   "source": [
    "# Or "
   ]
  },
  {
   "cell_type": "code",
   "execution_count": 23,
   "id": "66a5d37e",
   "metadata": {},
   "outputs": [
    {
     "data": {
      "text/html": [
       "<div>\n",
       "<style scoped>\n",
       "    .dataframe tbody tr th:only-of-type {\n",
       "        vertical-align: middle;\n",
       "    }\n",
       "\n",
       "    .dataframe tbody tr th {\n",
       "        vertical-align: top;\n",
       "    }\n",
       "\n",
       "    .dataframe thead th {\n",
       "        text-align: right;\n",
       "    }\n",
       "</style>\n",
       "<table border=\"1\" class=\"dataframe\">\n",
       "  <thead>\n",
       "    <tr style=\"text-align: right;\">\n",
       "      <th></th>\n",
       "      <th>Runtime (Minutes)</th>\n",
       "    </tr>\n",
       "    <tr>\n",
       "      <th>Title</th>\n",
       "      <th></th>\n",
       "    </tr>\n",
       "  </thead>\n",
       "  <tbody>\n",
       "    <tr>\n",
       "      <th>The Hateful Eight</th>\n",
       "      <td>187</td>\n",
       "    </tr>\n",
       "    <tr>\n",
       "      <th>The Wolf of Wall Street</th>\n",
       "      <td>180</td>\n",
       "    </tr>\n",
       "    <tr>\n",
       "      <th>La vie d'Adèle</th>\n",
       "      <td>180</td>\n",
       "    </tr>\n",
       "    <tr>\n",
       "      <th>Cloud Atlas</th>\n",
       "      <td>172</td>\n",
       "    </tr>\n",
       "    <tr>\n",
       "      <th>3 Idiots</th>\n",
       "      <td>170</td>\n",
       "    </tr>\n",
       "    <tr>\n",
       "      <th>Pirates of the Caribbean: At World's End</th>\n",
       "      <td>169</td>\n",
       "    </tr>\n",
       "    <tr>\n",
       "      <th>Interstellar</th>\n",
       "      <td>169</td>\n",
       "    </tr>\n",
       "    <tr>\n",
       "      <th>The Hobbit: An Unexpected Journey</th>\n",
       "      <td>169</td>\n",
       "    </tr>\n",
       "    <tr>\n",
       "      <th>The Curious Case of Benjamin Button</th>\n",
       "      <td>166</td>\n",
       "    </tr>\n",
       "    <tr>\n",
       "      <th>Transformers: Age of Extinction</th>\n",
       "      <td>165</td>\n",
       "    </tr>\n",
       "  </tbody>\n",
       "</table>\n",
       "</div>"
      ],
      "text/plain": [
       "                                          Runtime (Minutes)\n",
       "Title                                                      \n",
       "The Hateful Eight                                       187\n",
       "The Wolf of Wall Street                                 180\n",
       "La vie d'Adèle                                          180\n",
       "Cloud Atlas                                             172\n",
       "3 Idiots                                                170\n",
       "Pirates of the Caribbean: At World's End                169\n",
       "Interstellar                                            169\n",
       "The Hobbit: An Unexpected Journey                       169\n",
       "The Curious Case of Benjamin Button                     166\n",
       "Transformers: Age of Extinction                         165"
      ]
     },
     "execution_count": 23,
     "metadata": {},
     "output_type": "execute_result"
    }
   ],
   "source": [
    "data[['Title','Runtime (Minutes)']].sort_values('Runtime (Minutes)',ascending=False).head(10).set_index('Title')"
   ]
  },
  {
   "cell_type": "code",
   "execution_count": 24,
   "id": "d79c86bc",
   "metadata": {
    "execution": {
     "iopub.execute_input": "2022-10-07T08:19:54.066907Z",
     "iopub.status.busy": "2022-10-07T08:19:54.065624Z",
     "iopub.status.idle": "2022-10-07T08:19:54.336217Z",
     "shell.execute_reply": "2022-10-07T08:19:54.335282Z"
    },
    "papermill": {
     "duration": 0.292403,
     "end_time": "2022-10-07T08:19:54.338726",
     "exception": false,
     "start_time": "2022-10-07T08:19:54.046323",
     "status": "completed"
    },
    "tags": []
   },
   "outputs": [
    {
     "data": {
      "image/png": "[encoded data removed]",
      "text/plain": [
       "<Figure size 640x480 with 1 Axes>"
      ]
     },
     "metadata": {},
     "output_type": "display_data"
    }
   ],
   "source": [
    "sns.barplot(x=le['Runtime (Minutes)'],y=le.index)\n",
    "plt.title('Top 10 Lengtly Movies')\n",
    "plt.show()"
   ]
  },
  {
   "cell_type": "markdown",
   "id": "55f389a3",
   "metadata": {
    "papermill": {
     "duration": 0.017395,
     "end_time": "2022-10-07T08:19:54.374341",
     "exception": false,
     "start_time": "2022-10-07T08:19:54.356946",
     "status": "completed"
    },
    "tags": []
   },
   "source": [
    "# 14. Display Number of Movies Per Year"
   ]
  },
  {
   "cell_type": "code",
   "execution_count": 25,
   "id": "eeb0e6a4",
   "metadata": {},
   "outputs": [
    {
     "data": {
      "text/plain": [
       "Index(['Rank', 'Title', 'Genre', 'Description', 'Director', 'Actors', 'Year',\n",
       "       'Runtime (Minutes)', 'Rating', 'Votes', 'Revenue (Millions)',\n",
       "       'Metascore'],\n",
       "      dtype='object')"
      ]
     },
     "execution_count": 25,
     "metadata": {},
     "output_type": "execute_result"
    }
   ],
   "source": [
    "data.columns"
   ]
  },
  {
   "cell_type": "code",
   "execution_count": 26,
   "id": "992d2777",
   "metadata": {},
   "outputs": [
    {
     "data": {
      "text/plain": [
       "Year\n",
       "2016    198\n",
       "2015    109\n",
       "2014     93\n",
       "2013     84\n",
       "2012     62\n",
       "2011     57\n",
       "2010     57\n",
       "2008     48\n",
       "2009     45\n",
       "2007     44\n",
       "2006     41\n",
       "Name: count, dtype: int64"
      ]
     },
     "execution_count": 26,
     "metadata": {},
     "output_type": "execute_result"
    }
   ],
   "source": [
    "movies_per_year = data['Year'].value_counts()\n",
    "movies_per_year"
   ]
  },
  {
   "cell_type": "code",
   "execution_count": 27,
   "id": "4665315f",
   "metadata": {
    "execution": {
     "iopub.execute_input": "2022-10-07T08:19:54.412784Z",
     "iopub.status.busy": "2022-10-07T08:19:54.411780Z",
     "iopub.status.idle": "2022-10-07T08:19:54.687780Z",
     "shell.execute_reply": "2022-10-07T08:19:54.686504Z"
    },
    "papermill": {
     "duration": 0.298548,
     "end_time": "2022-10-07T08:19:54.690793",
     "exception": false,
     "start_time": "2022-10-07T08:19:54.392245",
     "status": "completed"
    },
    "tags": []
   },
   "outputs": [
    {
     "data": {
      "text/plain": [
       "Text(0.5, 1.0, 'Number of Movies Per Year')"
      ]
     },
     "execution_count": 27,
     "metadata": {},
     "output_type": "execute_result"
    },
    {
     "data": {
      "image/png": "[encoded data removed]",
      "text/plain": [
       "<Figure size 640x480 with 1 Axes>"
      ]
     },
     "metadata": {},
     "output_type": "display_data"
    }
   ],
   "source": [
    "sns.countplot(x='Year',data=data)\n",
    "plt.title(\"Number of Movies Per Year\")"
   ]
  },
  {
   "cell_type": "markdown",
   "id": "f117a24f",
   "metadata": {
    "papermill": {
     "duration": 0.017956,
     "end_time": "2022-10-07T08:19:54.727355",
     "exception": false,
     "start_time": "2022-10-07T08:19:54.709399",
     "status": "completed"
    },
    "tags": []
   },
   "source": [
    "# 15. Find Most Popular Movie Title (Higest Revenue)"
   ]
  },
  {
   "cell_type": "code",
   "execution_count": 28,
   "id": "6bdd5795",
   "metadata": {
    "execution": {
     "iopub.execute_input": "2022-10-07T08:19:54.766377Z",
     "iopub.status.busy": "2022-10-07T08:19:54.765890Z",
     "iopub.status.idle": "2022-10-07T08:19:54.774515Z",
     "shell.execute_reply": "2022-10-07T08:19:54.773355Z"
    },
    "papermill": {
     "duration": 0.031453,
     "end_time": "2022-10-07T08:19:54.777142",
     "exception": false,
     "start_time": "2022-10-07T08:19:54.745689",
     "status": "completed"
    },
    "tags": []
   },
   "outputs": [
    {
     "data": {
      "text/plain": [
       "Index(['Rank', 'Title', 'Genre', 'Description', 'Director', 'Actors', 'Year',\n",
       "       'Runtime (Minutes)', 'Rating', 'Votes', 'Revenue (Millions)',\n",
       "       'Metascore'],\n",
       "      dtype='object')"
      ]
     },
     "execution_count": 28,
     "metadata": {},
     "output_type": "execute_result"
    }
   ],
   "source": [
    "data.columns"
   ]
  },
  {
   "cell_type": "code",
   "execution_count": 29,
   "id": "9320b27c",
   "metadata": {
    "execution": {
     "iopub.execute_input": "2022-10-07T08:19:54.816311Z",
     "iopub.status.busy": "2022-10-07T08:19:54.815548Z",
     "iopub.status.idle": "2022-10-07T08:19:54.825399Z",
     "shell.execute_reply": "2022-10-07T08:19:54.824505Z"
    },
    "papermill": {
     "duration": 0.032305,
     "end_time": "2022-10-07T08:19:54.827803",
     "exception": false,
     "start_time": "2022-10-07T08:19:54.795498",
     "status": "completed"
    },
    "tags": []
   },
   "outputs": [
    {
     "data": {
      "text/html": [
       "<div>\n",
       "<style scoped>\n",
       "    .dataframe tbody tr th:only-of-type {\n",
       "        vertical-align: middle;\n",
       "    }\n",
       "\n",
       "    .dataframe tbody tr th {\n",
       "        vertical-align: top;\n",
       "    }\n",
       "\n",
       "    .dataframe thead th {\n",
       "        text-align: right;\n",
       "    }\n",
       "</style>\n",
       "<table border=\"1\" class=\"dataframe\">\n",
       "  <thead>\n",
       "    <tr style=\"text-align: right;\">\n",
       "      <th></th>\n",
       "      <th>Title</th>\n",
       "      <th>Revenue (Millions)</th>\n",
       "    </tr>\n",
       "  </thead>\n",
       "  <tbody>\n",
       "    <tr>\n",
       "      <th>50</th>\n",
       "      <td>Star Wars: Episode VII - The Force Awakens</td>\n",
       "      <td>936.63</td>\n",
       "    </tr>\n",
       "  </tbody>\n",
       "</table>\n",
       "</div>"
      ],
      "text/plain": [
       "                                         Title  Revenue (Millions)\n",
       "50  Star Wars: Episode VII - The Force Awakens              936.63"
      ]
     },
     "execution_count": 29,
     "metadata": {},
     "output_type": "execute_result"
    }
   ],
   "source": [
    "data[data['Revenue (Millions)'].max() == data['Revenue (Millions)']][['Title','Revenue (Millions)']]"
   ]
  },
  {
   "cell_type": "markdown",
   "id": "34d3a309",
   "metadata": {
    "papermill": {
     "duration": 0.018637,
     "end_time": "2022-10-07T08:19:54.864937",
     "exception": false,
     "start_time": "2022-10-07T08:19:54.846300",
     "status": "completed"
    },
    "tags": []
   },
   "source": [
    "# 16. Display Top 10 Highest Rated Movie Titles And its Directors"
   ]
  },
  {
   "cell_type": "code",
   "execution_count": 30,
   "id": "69abec7a",
   "metadata": {},
   "outputs": [
    {
     "data": {
      "text/html": [
       "<div>\n",
       "<style scoped>\n",
       "    .dataframe tbody tr th:only-of-type {\n",
       "        vertical-align: middle;\n",
       "    }\n",
       "\n",
       "    .dataframe tbody tr th {\n",
       "        vertical-align: top;\n",
       "    }\n",
       "\n",
       "    .dataframe thead th {\n",
       "        text-align: right;\n",
       "    }\n",
       "</style>\n",
       "<table border=\"1\" class=\"dataframe\">\n",
       "  <thead>\n",
       "    <tr style=\"text-align: right;\">\n",
       "      <th></th>\n",
       "      <th>Rating</th>\n",
       "      <th>Director</th>\n",
       "    </tr>\n",
       "    <tr>\n",
       "      <th>Title</th>\n",
       "      <th></th>\n",
       "      <th></th>\n",
       "    </tr>\n",
       "  </thead>\n",
       "  <tbody>\n",
       "    <tr>\n",
       "      <th>The Dark Knight</th>\n",
       "      <td>9.0</td>\n",
       "      <td>Christopher Nolan</td>\n",
       "    </tr>\n",
       "    <tr>\n",
       "      <th>Inception</th>\n",
       "      <td>8.8</td>\n",
       "      <td>Christopher Nolan</td>\n",
       "    </tr>\n",
       "    <tr>\n",
       "      <th>Interstellar</th>\n",
       "      <td>8.6</td>\n",
       "      <td>Christopher Nolan</td>\n",
       "    </tr>\n",
       "    <tr>\n",
       "      <th>The Intouchables</th>\n",
       "      <td>8.6</td>\n",
       "      <td>Olivier Nakache</td>\n",
       "    </tr>\n",
       "    <tr>\n",
       "      <th>Kimi no na wa</th>\n",
       "      <td>8.6</td>\n",
       "      <td>Makoto Shinkai</td>\n",
       "    </tr>\n",
       "    <tr>\n",
       "      <th>The Dark Knight Rises</th>\n",
       "      <td>8.5</td>\n",
       "      <td>Christopher Nolan</td>\n",
       "    </tr>\n",
       "    <tr>\n",
       "      <th>Taare Zameen Par</th>\n",
       "      <td>8.5</td>\n",
       "      <td>Aamir Khan</td>\n",
       "    </tr>\n",
       "    <tr>\n",
       "      <th>Whiplash</th>\n",
       "      <td>8.5</td>\n",
       "      <td>Damien Chazelle</td>\n",
       "    </tr>\n",
       "    <tr>\n",
       "      <th>The Departed</th>\n",
       "      <td>8.5</td>\n",
       "      <td>Martin Scorsese</td>\n",
       "    </tr>\n",
       "    <tr>\n",
       "      <th>The Lives of Others</th>\n",
       "      <td>8.5</td>\n",
       "      <td>Florian Henckel von Donnersmarck</td>\n",
       "    </tr>\n",
       "  </tbody>\n",
       "</table>\n",
       "</div>"
      ],
      "text/plain": [
       "                       Rating                          Director\n",
       "Title                                                          \n",
       "The Dark Knight           9.0                 Christopher Nolan\n",
       "Inception                 8.8                 Christopher Nolan\n",
       "Interstellar              8.6                 Christopher Nolan\n",
       "The Intouchables          8.6                   Olivier Nakache\n",
       "Kimi no na wa             8.6                    Makoto Shinkai\n",
       "The Dark Knight Rises     8.5                 Christopher Nolan\n",
       "Taare Zameen Par          8.5                        Aamir Khan\n",
       "Whiplash                  8.5                   Damien Chazelle\n",
       "The Departed              8.5                   Martin Scorsese\n",
       "The Lives of Others       8.5  Florian Henckel von Donnersmarck"
      ]
     },
     "execution_count": 30,
     "metadata": {},
     "output_type": "execute_result"
    }
   ],
   "source": [
    "top= data.sort_values('Rating',ascending=False)\n",
    "top[[\"Title\",\"Rating\",'Director']].set_index('Title').head(10)"
   ]
  },
  {
   "cell_type": "code",
   "execution_count": 31,
   "id": "19d41f39",
   "metadata": {
    "execution": {
     "iopub.execute_input": "2022-10-07T08:19:54.904118Z",
     "iopub.status.busy": "2022-10-07T08:19:54.903139Z",
     "iopub.status.idle": "2022-10-07T08:19:54.913285Z",
     "shell.execute_reply": "2022-10-07T08:19:54.912098Z"
    },
    "papermill": {
     "duration": 0.033073,
     "end_time": "2022-10-07T08:19:54.916295",
     "exception": false,
     "start_time": "2022-10-07T08:19:54.883222",
     "status": "completed"
    },
    "tags": []
   },
   "outputs": [],
   "source": [
    "top_10=data.nlargest(10,'Rating')[['Title','Rating','Director']].set_index('Title')"
   ]
  },
  {
   "cell_type": "code",
   "execution_count": 32,
   "id": "c60d1a65",
   "metadata": {
    "execution": {
     "iopub.execute_input": "2022-10-07T08:19:54.955486Z",
     "iopub.status.busy": "2022-10-07T08:19:54.954944Z",
     "iopub.status.idle": "2022-10-07T08:19:54.968582Z",
     "shell.execute_reply": "2022-10-07T08:19:54.967328Z"
    },
    "papermill": {
     "duration": 0.036135,
     "end_time": "2022-10-07T08:19:54.971036",
     "exception": false,
     "start_time": "2022-10-07T08:19:54.934901",
     "status": "completed"
    },
    "tags": []
   },
   "outputs": [
    {
     "data": {
      "text/html": [
       "<div>\n",
       "<style scoped>\n",
       "    .dataframe tbody tr th:only-of-type {\n",
       "        vertical-align: middle;\n",
       "    }\n",
       "\n",
       "    .dataframe tbody tr th {\n",
       "        vertical-align: top;\n",
       "    }\n",
       "\n",
       "    .dataframe thead th {\n",
       "        text-align: right;\n",
       "    }\n",
       "</style>\n",
       "<table border=\"1\" class=\"dataframe\">\n",
       "  <thead>\n",
       "    <tr style=\"text-align: right;\">\n",
       "      <th></th>\n",
       "      <th>Rating</th>\n",
       "      <th>Director</th>\n",
       "    </tr>\n",
       "    <tr>\n",
       "      <th>Title</th>\n",
       "      <th></th>\n",
       "      <th></th>\n",
       "    </tr>\n",
       "  </thead>\n",
       "  <tbody>\n",
       "    <tr>\n",
       "      <th>The Dark Knight</th>\n",
       "      <td>9.0</td>\n",
       "      <td>Christopher Nolan</td>\n",
       "    </tr>\n",
       "    <tr>\n",
       "      <th>Inception</th>\n",
       "      <td>8.8</td>\n",
       "      <td>Christopher Nolan</td>\n",
       "    </tr>\n",
       "    <tr>\n",
       "      <th>Interstellar</th>\n",
       "      <td>8.6</td>\n",
       "      <td>Christopher Nolan</td>\n",
       "    </tr>\n",
       "    <tr>\n",
       "      <th>Kimi no na wa</th>\n",
       "      <td>8.6</td>\n",
       "      <td>Makoto Shinkai</td>\n",
       "    </tr>\n",
       "    <tr>\n",
       "      <th>The Intouchables</th>\n",
       "      <td>8.6</td>\n",
       "      <td>Olivier Nakache</td>\n",
       "    </tr>\n",
       "    <tr>\n",
       "      <th>The Prestige</th>\n",
       "      <td>8.5</td>\n",
       "      <td>Christopher Nolan</td>\n",
       "    </tr>\n",
       "    <tr>\n",
       "      <th>The Departed</th>\n",
       "      <td>8.5</td>\n",
       "      <td>Martin Scorsese</td>\n",
       "    </tr>\n",
       "    <tr>\n",
       "      <th>The Dark Knight Rises</th>\n",
       "      <td>8.5</td>\n",
       "      <td>Christopher Nolan</td>\n",
       "    </tr>\n",
       "    <tr>\n",
       "      <th>Whiplash</th>\n",
       "      <td>8.5</td>\n",
       "      <td>Damien Chazelle</td>\n",
       "    </tr>\n",
       "    <tr>\n",
       "      <th>The Lives of Others</th>\n",
       "      <td>8.5</td>\n",
       "      <td>Florian Henckel von Donnersmarck</td>\n",
       "    </tr>\n",
       "  </tbody>\n",
       "</table>\n",
       "</div>"
      ],
      "text/plain": [
       "                       Rating                          Director\n",
       "Title                                                          \n",
       "The Dark Knight           9.0                 Christopher Nolan\n",
       "Inception                 8.8                 Christopher Nolan\n",
       "Interstellar              8.6                 Christopher Nolan\n",
       "Kimi no na wa             8.6                    Makoto Shinkai\n",
       "The Intouchables          8.6                   Olivier Nakache\n",
       "The Prestige              8.5                 Christopher Nolan\n",
       "The Departed              8.5                   Martin Scorsese\n",
       "The Dark Knight Rises     8.5                 Christopher Nolan\n",
       "Whiplash                  8.5                   Damien Chazelle\n",
       "The Lives of Others       8.5  Florian Henckel von Donnersmarck"
      ]
     },
     "execution_count": 32,
     "metadata": {},
     "output_type": "execute_result"
    }
   ],
   "source": [
    "top_10"
   ]
  },
  {
   "cell_type": "code",
   "execution_count": 33,
   "id": "158f89dd",
   "metadata": {
    "execution": {
     "iopub.execute_input": "2022-10-07T08:19:55.010304Z",
     "iopub.status.busy": "2022-10-07T08:19:55.009553Z",
     "iopub.status.idle": "2022-10-07T08:19:55.285415Z",
     "shell.execute_reply": "2022-10-07T08:19:55.284071Z"
    },
    "papermill": {
     "duration": 0.299162,
     "end_time": "2022-10-07T08:19:55.288570",
     "exception": false,
     "start_time": "2022-10-07T08:19:54.989408",
     "status": "completed"
    },
    "tags": []
   },
   "outputs": [
    {
     "data": {
      "text/plain": [
       "Text(0.5, 1.0, 'Display Top 10 Highest Rated Movie Titles')"
      ]
     },
     "execution_count": 33,
     "metadata": {},
     "output_type": "execute_result"
    },
    {
     "data": {
      "image/png": "[encoded data removed]",
      "text/plain": [
       "<Figure size 640x480 with 1 Axes>"
      ]
     },
     "metadata": {},
     "output_type": "display_data"
    }
   ],
   "source": [
    "sns.barplot(x=top_10['Rating'],y= top_10.index)\n",
    "plt.title(\"Display Top 10 Highest Rated Movie Titles\")"
   ]
  },
  {
   "cell_type": "markdown",
   "id": "8370f94f",
   "metadata": {
    "papermill": {
     "duration": 0.018615,
     "end_time": "2022-10-07T08:19:55.326577",
     "exception": false,
     "start_time": "2022-10-07T08:19:55.307962",
     "status": "completed"
    },
    "tags": []
   },
   "source": [
    "# 17. Display Top 10 Highest Revenue Movie Titles"
   ]
  },
  {
   "cell_type": "code",
   "execution_count": 34,
   "id": "ed99c895",
   "metadata": {
    "execution": {
     "iopub.execute_input": "2022-10-07T08:19:55.368772Z",
     "iopub.status.busy": "2022-10-07T08:19:55.368237Z",
     "iopub.status.idle": "2022-10-07T08:19:55.376062Z",
     "shell.execute_reply": "2022-10-07T08:19:55.374666Z"
    },
    "papermill": {
     "duration": 0.032731,
     "end_time": "2022-10-07T08:19:55.378828",
     "exception": false,
     "start_time": "2022-10-07T08:19:55.346097",
     "status": "completed"
    },
    "tags": []
   },
   "outputs": [
    {
     "data": {
      "text/plain": [
       "Index(['Rank', 'Title', 'Genre', 'Description', 'Director', 'Actors', 'Year',\n",
       "       'Runtime (Minutes)', 'Rating', 'Votes', 'Revenue (Millions)',\n",
       "       'Metascore'],\n",
       "      dtype='object')"
      ]
     },
     "execution_count": 34,
     "metadata": {},
     "output_type": "execute_result"
    }
   ],
   "source": [
    "data.columns"
   ]
  },
  {
   "cell_type": "code",
   "execution_count": 62,
   "id": "a799a5a6",
   "metadata": {
    "execution": {
     "iopub.execute_input": "2022-10-07T08:19:55.419169Z",
     "iopub.status.busy": "2022-10-07T08:19:55.418365Z",
     "iopub.status.idle": "2022-10-07T08:19:55.442209Z",
     "shell.execute_reply": "2022-10-07T08:19:55.440970Z"
    },
    "papermill": {
     "duration": 0.046852,
     "end_time": "2022-10-07T08:19:55.444822",
     "exception": false,
     "start_time": "2022-10-07T08:19:55.397970",
     "status": "completed"
    },
    "tags": []
   },
   "outputs": [
    {
     "data": {
      "text/html": [
       "<div>\n",
       "<style scoped>\n",
       "    .dataframe tbody tr th:only-of-type {\n",
       "        vertical-align: middle;\n",
       "    }\n",
       "\n",
       "    .dataframe tbody tr th {\n",
       "        vertical-align: top;\n",
       "    }\n",
       "\n",
       "    .dataframe thead th {\n",
       "        text-align: right;\n",
       "    }\n",
       "</style>\n",
       "<table border=\"1\" class=\"dataframe\">\n",
       "  <thead>\n",
       "    <tr style=\"text-align: right;\">\n",
       "      <th></th>\n",
       "      <th>Director</th>\n",
       "      <th>Revenue (Millions)</th>\n",
       "    </tr>\n",
       "    <tr>\n",
       "      <th>Title</th>\n",
       "      <th></th>\n",
       "      <th></th>\n",
       "    </tr>\n",
       "  </thead>\n",
       "  <tbody>\n",
       "    <tr>\n",
       "      <th>Star Wars: Episode VII - The Force Awakens</th>\n",
       "      <td>J.J. Abrams</td>\n",
       "      <td>936.63</td>\n",
       "    </tr>\n",
       "    <tr>\n",
       "      <th>Avatar</th>\n",
       "      <td>James Cameron</td>\n",
       "      <td>760.51</td>\n",
       "    </tr>\n",
       "    <tr>\n",
       "      <th>Jurassic World</th>\n",
       "      <td>Colin Trevorrow</td>\n",
       "      <td>652.18</td>\n",
       "    </tr>\n",
       "    <tr>\n",
       "      <th>The Avengers</th>\n",
       "      <td>Joss Whedon</td>\n",
       "      <td>623.28</td>\n",
       "    </tr>\n",
       "    <tr>\n",
       "      <th>The Dark Knight</th>\n",
       "      <td>Christopher Nolan</td>\n",
       "      <td>533.32</td>\n",
       "    </tr>\n",
       "    <tr>\n",
       "      <th>Rogue One</th>\n",
       "      <td>Gareth Edwards</td>\n",
       "      <td>532.17</td>\n",
       "    </tr>\n",
       "    <tr>\n",
       "      <th>Finding Dory</th>\n",
       "      <td>Andrew Stanton</td>\n",
       "      <td>486.29</td>\n",
       "    </tr>\n",
       "    <tr>\n",
       "      <th>Avengers: Age of Ultron</th>\n",
       "      <td>Joss Whedon</td>\n",
       "      <td>458.99</td>\n",
       "    </tr>\n",
       "    <tr>\n",
       "      <th>The Dark Knight Rises</th>\n",
       "      <td>Christopher Nolan</td>\n",
       "      <td>448.13</td>\n",
       "    </tr>\n",
       "    <tr>\n",
       "      <th>The Hunger Games: Catching Fire</th>\n",
       "      <td>Francis Lawrence</td>\n",
       "      <td>424.65</td>\n",
       "    </tr>\n",
       "  </tbody>\n",
       "</table>\n",
       "</div>"
      ],
      "text/plain": [
       "                                                     Director  \\\n",
       "Title                                                           \n",
       "Star Wars: Episode VII - The Force Awakens        J.J. Abrams   \n",
       "Avatar                                          James Cameron   \n",
       "Jurassic World                                Colin Trevorrow   \n",
       "The Avengers                                      Joss Whedon   \n",
       "The Dark Knight                             Christopher Nolan   \n",
       "Rogue One                                      Gareth Edwards   \n",
       "Finding Dory                                   Andrew Stanton   \n",
       "Avengers: Age of Ultron                           Joss Whedon   \n",
       "The Dark Knight Rises                       Christopher Nolan   \n",
       "The Hunger Games: Catching Fire              Francis Lawrence   \n",
       "\n",
       "                                            Revenue (Millions)  \n",
       "Title                                                           \n",
       "Star Wars: Episode VII - The Force Awakens              936.63  \n",
       "Avatar                                                  760.51  \n",
       "Jurassic World                                          652.18  \n",
       "The Avengers                                            623.28  \n",
       "The Dark Knight                                         533.32  \n",
       "Rogue One                                               532.17  \n",
       "Finding Dory                                            486.29  \n",
       "Avengers: Age of Ultron                                 458.99  \n",
       "The Dark Knight Rises                                   448.13  \n",
       "The Hunger Games: Catching Fire                         424.65  "
      ]
     },
     "execution_count": 62,
     "metadata": {},
     "output_type": "execute_result"
    }
   ],
   "source": [
    "Top10 =data.sort_values(by='Revenue (Millions)',ascending=False).head(10)\n",
    "Top10[['Title','Director','Revenue (Millions)']].set_index('Title')"
   ]
  },
  {
   "cell_type": "code",
   "execution_count": 56,
   "id": "52715993",
   "metadata": {
    "execution": {
     "iopub.execute_input": "2022-10-07T08:19:55.486760Z",
     "iopub.status.busy": "2022-10-07T08:19:55.485901Z",
     "iopub.status.idle": "2022-10-07T08:19:55.495355Z",
     "shell.execute_reply": "2022-10-07T08:19:55.494389Z"
    },
    "papermill": {
     "duration": 0.033626,
     "end_time": "2022-10-07T08:19:55.497971",
     "exception": false,
     "start_time": "2022-10-07T08:19:55.464345",
     "status": "completed"
    },
    "tags": []
   },
   "outputs": [
    {
     "data": {
      "text/html": [
       "<div>\n",
       "<style scoped>\n",
       "    .dataframe tbody tr th:only-of-type {\n",
       "        vertical-align: middle;\n",
       "    }\n",
       "\n",
       "    .dataframe tbody tr th {\n",
       "        vertical-align: top;\n",
       "    }\n",
       "\n",
       "    .dataframe thead th {\n",
       "        text-align: right;\n",
       "    }\n",
       "</style>\n",
       "<table border=\"1\" class=\"dataframe\">\n",
       "  <thead>\n",
       "    <tr style=\"text-align: right;\">\n",
       "      <th></th>\n",
       "      <th>Director</th>\n",
       "      <th>Revenue (Millions)</th>\n",
       "    </tr>\n",
       "    <tr>\n",
       "      <th>Title</th>\n",
       "      <th></th>\n",
       "      <th></th>\n",
       "    </tr>\n",
       "  </thead>\n",
       "  <tbody>\n",
       "    <tr>\n",
       "      <th>Star Wars: Episode VII - The Force Awakens</th>\n",
       "      <td>J.J. Abrams</td>\n",
       "      <td>936.63</td>\n",
       "    </tr>\n",
       "    <tr>\n",
       "      <th>Avatar</th>\n",
       "      <td>James Cameron</td>\n",
       "      <td>760.51</td>\n",
       "    </tr>\n",
       "    <tr>\n",
       "      <th>Jurassic World</th>\n",
       "      <td>Colin Trevorrow</td>\n",
       "      <td>652.18</td>\n",
       "    </tr>\n",
       "    <tr>\n",
       "      <th>The Avengers</th>\n",
       "      <td>Joss Whedon</td>\n",
       "      <td>623.28</td>\n",
       "    </tr>\n",
       "    <tr>\n",
       "      <th>The Dark Knight</th>\n",
       "      <td>Christopher Nolan</td>\n",
       "      <td>533.32</td>\n",
       "    </tr>\n",
       "    <tr>\n",
       "      <th>Rogue One</th>\n",
       "      <td>Gareth Edwards</td>\n",
       "      <td>532.17</td>\n",
       "    </tr>\n",
       "    <tr>\n",
       "      <th>Finding Dory</th>\n",
       "      <td>Andrew Stanton</td>\n",
       "      <td>486.29</td>\n",
       "    </tr>\n",
       "    <tr>\n",
       "      <th>Avengers: Age of Ultron</th>\n",
       "      <td>Joss Whedon</td>\n",
       "      <td>458.99</td>\n",
       "    </tr>\n",
       "    <tr>\n",
       "      <th>The Dark Knight Rises</th>\n",
       "      <td>Christopher Nolan</td>\n",
       "      <td>448.13</td>\n",
       "    </tr>\n",
       "    <tr>\n",
       "      <th>The Hunger Games: Catching Fire</th>\n",
       "      <td>Francis Lawrence</td>\n",
       "      <td>424.65</td>\n",
       "    </tr>\n",
       "  </tbody>\n",
       "</table>\n",
       "</div>"
      ],
      "text/plain": [
       "                                                     Director  \\\n",
       "Title                                                           \n",
       "Star Wars: Episode VII - The Force Awakens        J.J. Abrams   \n",
       "Avatar                                          James Cameron   \n",
       "Jurassic World                                Colin Trevorrow   \n",
       "The Avengers                                      Joss Whedon   \n",
       "The Dark Knight                             Christopher Nolan   \n",
       "Rogue One                                      Gareth Edwards   \n",
       "Finding Dory                                   Andrew Stanton   \n",
       "Avengers: Age of Ultron                           Joss Whedon   \n",
       "The Dark Knight Rises                       Christopher Nolan   \n",
       "The Hunger Games: Catching Fire              Francis Lawrence   \n",
       "\n",
       "                                            Revenue (Millions)  \n",
       "Title                                                           \n",
       "Star Wars: Episode VII - The Force Awakens              936.63  \n",
       "Avatar                                                  760.51  \n",
       "Jurassic World                                          652.18  \n",
       "The Avengers                                            623.28  \n",
       "The Dark Knight                                         533.32  \n",
       "Rogue One                                               532.17  \n",
       "Finding Dory                                            486.29  \n",
       "Avengers: Age of Ultron                                 458.99  \n",
       "The Dark Knight Rises                                   448.13  \n",
       "The Hunger Games: Catching Fire                         424.65  "
      ]
     },
     "execution_count": 56,
     "metadata": {},
     "output_type": "execute_result"
    }
   ],
   "source": [
    "top_10 = data.nlargest(10,'Revenue (Millions)')[['Title','Director','Revenue (Millions)']].set_index('Title')\n",
    "top_10"
   ]
  },
  {
   "cell_type": "code",
   "execution_count": 37,
   "id": "79d9d768",
   "metadata": {
    "execution": {
     "iopub.execute_input": "2022-10-07T08:19:55.539378Z",
     "iopub.status.busy": "2022-10-07T08:19:55.538614Z",
     "iopub.status.idle": "2022-10-07T08:19:55.798271Z",
     "shell.execute_reply": "2022-10-07T08:19:55.796948Z"
    },
    "papermill": {
     "duration": 0.283514,
     "end_time": "2022-10-07T08:19:55.801008",
     "exception": false,
     "start_time": "2022-10-07T08:19:55.517494",
     "status": "completed"
    },
    "tags": []
   },
   "outputs": [
    {
     "data": {
      "image/png": "[encoded data removed]",
      "text/plain": [
       "<Figure size 640x480 with 1 Axes>"
      ]
     },
     "metadata": {},
     "output_type": "display_data"
    }
   ],
   "source": [
    "sns.barplot(x=top_10['Revenue (Millions)'],y=top_10.index)\n",
    "plt.title(\"Display Top 10 Highest Revenue Movie Titles\")\n",
    "plt.show()"
   ]
  },
  {
   "cell_type": "markdown",
   "id": "8152e5f1",
   "metadata": {
    "papermill": {
     "duration": 0.01941,
     "end_time": "2022-10-07T08:19:55.840764",
     "exception": false,
     "start_time": "2022-10-07T08:19:55.821354",
     "status": "completed"
    },
    "tags": []
   },
   "source": [
    "# 18.  Find Average Rating of Movies Year-wise"
   ]
  },
  {
   "cell_type": "code",
   "execution_count": 38,
   "id": "f68eee20",
   "metadata": {
    "execution": {
     "iopub.execute_input": "2022-10-07T08:19:55.884656Z",
     "iopub.status.busy": "2022-10-07T08:19:55.883853Z",
     "iopub.status.idle": "2022-10-07T08:19:55.892060Z",
     "shell.execute_reply": "2022-10-07T08:19:55.890898Z"
    },
    "papermill": {
     "duration": 0.033433,
     "end_time": "2022-10-07T08:19:55.894416",
     "exception": false,
     "start_time": "2022-10-07T08:19:55.860983",
     "status": "completed"
    },
    "tags": []
   },
   "outputs": [
    {
     "data": {
      "text/plain": [
       "Index(['Rank', 'Title', 'Genre', 'Description', 'Director', 'Actors', 'Year',\n",
       "       'Runtime (Minutes)', 'Rating', 'Votes', 'Revenue (Millions)',\n",
       "       'Metascore'],\n",
       "      dtype='object')"
      ]
     },
     "execution_count": 38,
     "metadata": {},
     "output_type": "execute_result"
    }
   ],
   "source": [
    "data.columns"
   ]
  },
  {
   "cell_type": "code",
   "execution_count": 39,
   "id": "a6540848",
   "metadata": {
    "execution": {
     "iopub.execute_input": "2022-10-07T08:19:55.937006Z",
     "iopub.status.busy": "2022-10-07T08:19:55.936178Z",
     "iopub.status.idle": "2022-10-07T08:19:55.949764Z",
     "shell.execute_reply": "2022-10-07T08:19:55.948667Z"
    },
    "papermill": {
     "duration": 0.038191,
     "end_time": "2022-10-07T08:19:55.952654",
     "exception": false,
     "start_time": "2022-10-07T08:19:55.914463",
     "status": "completed"
    },
    "tags": []
   },
   "outputs": [],
   "source": [
    "data1=data.groupby('Year')[['Year','Rating']].mean().\\\n",
    "sort_values('Rating',ascending=False).set_index('Year')"
   ]
  },
  {
   "cell_type": "code",
   "execution_count": 40,
   "id": "21c01132",
   "metadata": {
    "execution": {
     "iopub.execute_input": "2022-10-07T08:19:55.995998Z",
     "iopub.status.busy": "2022-10-07T08:19:55.995128Z",
     "iopub.status.idle": "2022-10-07T08:19:56.006890Z",
     "shell.execute_reply": "2022-10-07T08:19:56.006043Z"
    },
    "papermill": {
     "duration": 0.036384,
     "end_time": "2022-10-07T08:19:56.009367",
     "exception": false,
     "start_time": "2022-10-07T08:19:55.972983",
     "status": "completed"
    },
    "tags": []
   },
   "outputs": [
    {
     "data": {
      "text/html": [
       "<div>\n",
       "<style scoped>\n",
       "    .dataframe tbody tr th:only-of-type {\n",
       "        vertical-align: middle;\n",
       "    }\n",
       "\n",
       "    .dataframe tbody tr th {\n",
       "        vertical-align: top;\n",
       "    }\n",
       "\n",
       "    .dataframe thead th {\n",
       "        text-align: right;\n",
       "    }\n",
       "</style>\n",
       "<table border=\"1\" class=\"dataframe\">\n",
       "  <thead>\n",
       "    <tr style=\"text-align: right;\">\n",
       "      <th></th>\n",
       "      <th>Rating</th>\n",
       "    </tr>\n",
       "    <tr>\n",
       "      <th>Year</th>\n",
       "      <th></th>\n",
       "    </tr>\n",
       "  </thead>\n",
       "  <tbody>\n",
       "    <tr>\n",
       "      <th>2006.0</th>\n",
       "      <td>7.143902</td>\n",
       "    </tr>\n",
       "    <tr>\n",
       "      <th>2007.0</th>\n",
       "      <td>7.140909</td>\n",
       "    </tr>\n",
       "    <tr>\n",
       "      <th>2011.0</th>\n",
       "      <td>6.945614</td>\n",
       "    </tr>\n",
       "    <tr>\n",
       "      <th>2012.0</th>\n",
       "      <td>6.933871</td>\n",
       "    </tr>\n",
       "    <tr>\n",
       "      <th>2009.0</th>\n",
       "      <td>6.911111</td>\n",
       "    </tr>\n",
       "    <tr>\n",
       "      <th>2010.0</th>\n",
       "      <td>6.894737</td>\n",
       "    </tr>\n",
       "    <tr>\n",
       "      <th>2013.0</th>\n",
       "      <td>6.832143</td>\n",
       "    </tr>\n",
       "    <tr>\n",
       "      <th>2014.0</th>\n",
       "      <td>6.822581</td>\n",
       "    </tr>\n",
       "    <tr>\n",
       "      <th>2008.0</th>\n",
       "      <td>6.708333</td>\n",
       "    </tr>\n",
       "    <tr>\n",
       "      <th>2015.0</th>\n",
       "      <td>6.674312</td>\n",
       "    </tr>\n",
       "    <tr>\n",
       "      <th>2016.0</th>\n",
       "      <td>6.644444</td>\n",
       "    </tr>\n",
       "  </tbody>\n",
       "</table>\n",
       "</div>"
      ],
      "text/plain": [
       "          Rating\n",
       "Year            \n",
       "2006.0  7.143902\n",
       "2007.0  7.140909\n",
       "2011.0  6.945614\n",
       "2012.0  6.933871\n",
       "2009.0  6.911111\n",
       "2010.0  6.894737\n",
       "2013.0  6.832143\n",
       "2014.0  6.822581\n",
       "2008.0  6.708333\n",
       "2015.0  6.674312\n",
       "2016.0  6.644444"
      ]
     },
     "execution_count": 40,
     "metadata": {},
     "output_type": "execute_result"
    }
   ],
   "source": [
    "data1"
   ]
  },
  {
   "cell_type": "code",
   "execution_count": 41,
   "id": "9e5a9b2f",
   "metadata": {
    "execution": {
     "iopub.execute_input": "2022-10-07T08:19:56.052383Z",
     "iopub.status.busy": "2022-10-07T08:19:56.051453Z",
     "iopub.status.idle": "2022-10-07T08:19:56.314375Z",
     "shell.execute_reply": "2022-10-07T08:19:56.313054Z"
    },
    "papermill": {
     "duration": 0.287116,
     "end_time": "2022-10-07T08:19:56.316950",
     "exception": false,
     "start_time": "2022-10-07T08:19:56.029834",
     "status": "completed"
    },
    "tags": []
   },
   "outputs": [
    {
     "data": {
      "image/png": "[encoded data removed]",
      "text/plain": [
       "<Figure size 1000x500 with 1 Axes>"
      ]
     },
     "metadata": {},
     "output_type": "display_data"
    }
   ],
   "source": [
    "plt.figure(figsize=(10,5))\n",
    "sns.barplot(x=data1.index,y=data1['Rating'])\n",
    "plt.show()"
   ]
  },
  {
   "cell_type": "markdown",
   "id": "1cf32ead",
   "metadata": {
    "papermill": {
     "duration": 0.020929,
     "end_time": "2022-10-07T08:19:56.358457",
     "exception": false,
     "start_time": "2022-10-07T08:19:56.337528",
     "status": "completed"
    },
    "tags": []
   },
   "source": [
    "# 19. Does Rating Affect The Revenue?"
   ]
  },
  {
   "cell_type": "code",
   "execution_count": 42,
   "id": "cb148b9e",
   "metadata": {
    "execution": {
     "iopub.execute_input": "2022-10-07T08:19:56.402549Z",
     "iopub.status.busy": "2022-10-07T08:19:56.401260Z",
     "iopub.status.idle": "2022-10-07T08:19:56.657610Z",
     "shell.execute_reply": "2022-10-07T08:19:56.656546Z"
    },
    "papermill": {
     "duration": 0.281021,
     "end_time": "2022-10-07T08:19:56.660262",
     "exception": false,
     "start_time": "2022-10-07T08:19:56.379241",
     "status": "completed"
    },
    "tags": []
   },
   "outputs": [
    {
     "data": {
      "text/plain": [
       "<Axes: xlabel='Rating', ylabel='Revenue (Millions)'>"
      ]
     },
     "execution_count": 42,
     "metadata": {},
     "output_type": "execute_result"
    },
    {
     "data": {
      "image/png": "[encoded data removed]",
      "text/plain": [
       "<Figure size 640x480 with 1 Axes>"
      ]
     },
     "metadata": {},
     "output_type": "display_data"
    }
   ],
   "source": [
    "sns.scatterplot(x='Rating',y='Revenue (Millions)',data=data)"
   ]
  },
  {
   "cell_type": "markdown",
   "id": "5b8c0313",
   "metadata": {
    "execution": {
     "iopub.execute_input": "2022-10-07T08:03:20.504935Z",
     "iopub.status.busy": "2022-10-07T08:03:20.504347Z",
     "iopub.status.idle": "2022-10-07T08:03:20.562599Z",
     "shell.execute_reply": "2022-10-07T08:03:20.560512Z",
     "shell.execute_reply.started": "2022-10-07T08:03:20.504898Z"
    },
    "papermill": {
     "duration": 0.020949,
     "end_time": "2022-10-07T08:19:56.702965",
     "exception": false,
     "start_time": "2022-10-07T08:19:56.682016",
     "status": "completed"
    },
    "tags": []
   },
   "source": [
    "# Answer : Yes"
   ]
  },
  {
   "cell_type": "markdown",
   "id": "417e4da0",
   "metadata": {
    "papermill": {
     "duration": 0.020836,
     "end_time": "2022-10-07T08:19:56.744851",
     "exception": false,
     "start_time": "2022-10-07T08:19:56.724015",
     "status": "completed"
    },
    "tags": []
   },
   "source": [
    "# 20. Classify Movies Based on Ratings [Good,Better and Best]"
   ]
  },
  {
   "cell_type": "code",
   "execution_count": 43,
   "id": "55120d75",
   "metadata": {
    "execution": {
     "iopub.execute_input": "2022-10-07T08:19:56.790588Z",
     "iopub.status.busy": "2022-10-07T08:19:56.789231Z",
     "iopub.status.idle": "2022-10-07T08:19:56.799083Z",
     "shell.execute_reply": "2022-10-07T08:19:56.797673Z"
    },
    "papermill": {
     "duration": 0.035213,
     "end_time": "2022-10-07T08:19:56.801663",
     "exception": false,
     "start_time": "2022-10-07T08:19:56.766450",
     "status": "completed"
    },
    "tags": []
   },
   "outputs": [
    {
     "data": {
      "text/plain": [
       "Index(['Rank', 'Title', 'Genre', 'Description', 'Director', 'Actors', 'Year',\n",
       "       'Runtime (Minutes)', 'Rating', 'Votes', 'Revenue (Millions)',\n",
       "       'Metascore'],\n",
       "      dtype='object')"
      ]
     },
     "execution_count": 43,
     "metadata": {},
     "output_type": "execute_result"
    }
   ],
   "source": [
    "data.columns"
   ]
  },
  {
   "cell_type": "code",
   "execution_count": 44,
   "id": "5d54bbb6",
   "metadata": {
    "execution": {
     "iopub.execute_input": "2022-10-07T08:19:56.847231Z",
     "iopub.status.busy": "2022-10-07T08:19:56.845920Z",
     "iopub.status.idle": "2022-10-07T08:19:56.852153Z",
     "shell.execute_reply": "2022-10-07T08:19:56.850872Z"
    },
    "papermill": {
     "duration": 0.031624,
     "end_time": "2022-10-07T08:19:56.854773",
     "exception": false,
     "start_time": "2022-10-07T08:19:56.823149",
     "status": "completed"
    },
    "tags": []
   },
   "outputs": [],
   "source": [
    "def rating(rating):\n",
    "    if rating>=7.0:\n",
    "        return 'Excellent'\n",
    "    elif rating>=6.0:\n",
    "        return 'Good'\n",
    "    else:\n",
    "        return 'Average'"
   ]
  },
  {
   "cell_type": "code",
   "execution_count": 45,
   "id": "43e18561",
   "metadata": {
    "execution": {
     "iopub.execute_input": "2022-10-07T08:19:56.901771Z",
     "iopub.status.busy": "2022-10-07T08:19:56.901217Z",
     "iopub.status.idle": "2022-10-07T08:19:56.909374Z",
     "shell.execute_reply": "2022-10-07T08:19:56.907998Z"
    },
    "papermill": {
     "duration": 0.035652,
     "end_time": "2022-10-07T08:19:56.911782",
     "exception": false,
     "start_time": "2022-10-07T08:19:56.876130",
     "status": "completed"
    },
    "tags": []
   },
   "outputs": [],
   "source": [
    "data['rating_cat']=data['Rating'].apply(rating)"
   ]
  },
  {
   "cell_type": "code",
   "execution_count": 46,
   "id": "64cc6097",
   "metadata": {
    "execution": {
     "iopub.execute_input": "2022-10-07T08:19:56.957401Z",
     "iopub.status.busy": "2022-10-07T08:19:56.956908Z",
     "iopub.status.idle": "2022-10-07T08:19:56.976702Z",
     "shell.execute_reply": "2022-10-07T08:19:56.975407Z"
    },
    "papermill": {
     "duration": 0.045772,
     "end_time": "2022-10-07T08:19:56.979527",
     "exception": false,
     "start_time": "2022-10-07T08:19:56.933755",
     "status": "completed"
    },
    "tags": []
   },
   "outputs": [
    {
     "data": {
      "text/html": [
       "<div>\n",
       "<style scoped>\n",
       "    .dataframe tbody tr th:only-of-type {\n",
       "        vertical-align: middle;\n",
       "    }\n",
       "\n",
       "    .dataframe tbody tr th {\n",
       "        vertical-align: top;\n",
       "    }\n",
       "\n",
       "    .dataframe thead th {\n",
       "        text-align: right;\n",
       "    }\n",
       "</style>\n",
       "<table border=\"1\" class=\"dataframe\">\n",
       "  <thead>\n",
       "    <tr style=\"text-align: right;\">\n",
       "      <th></th>\n",
       "      <th>Rank</th>\n",
       "      <th>Title</th>\n",
       "      <th>Genre</th>\n",
       "      <th>Description</th>\n",
       "      <th>Director</th>\n",
       "      <th>Actors</th>\n",
       "      <th>Year</th>\n",
       "      <th>Runtime (Minutes)</th>\n",
       "      <th>Rating</th>\n",
       "      <th>Votes</th>\n",
       "      <th>Revenue (Millions)</th>\n",
       "      <th>Metascore</th>\n",
       "      <th>rating_cat</th>\n",
       "    </tr>\n",
       "  </thead>\n",
       "  <tbody>\n",
       "    <tr>\n",
       "      <th>0</th>\n",
       "      <td>1</td>\n",
       "      <td>Guardians of the Galaxy</td>\n",
       "      <td>Action,Adventure,Sci-Fi</td>\n",
       "      <td>A group of intergalactic criminals are forced ...</td>\n",
       "      <td>James Gunn</td>\n",
       "      <td>Chris Pratt, Vin Diesel, Bradley Cooper, Zoe S...</td>\n",
       "      <td>2014</td>\n",
       "      <td>121</td>\n",
       "      <td>8.1</td>\n",
       "      <td>757074</td>\n",
       "      <td>333.13</td>\n",
       "      <td>76.0</td>\n",
       "      <td>Excellent</td>\n",
       "    </tr>\n",
       "  </tbody>\n",
       "</table>\n",
       "</div>"
      ],
      "text/plain": [
       "   Rank                    Title                    Genre  \\\n",
       "0     1  Guardians of the Galaxy  Action,Adventure,Sci-Fi   \n",
       "\n",
       "                                         Description    Director  \\\n",
       "0  A group of intergalactic criminals are forced ...  James Gunn   \n",
       "\n",
       "                                              Actors  Year  Runtime (Minutes)  \\\n",
       "0  Chris Pratt, Vin Diesel, Bradley Cooper, Zoe S...  2014                121   \n",
       "\n",
       "   Rating   Votes  Revenue (Millions)  Metascore rating_cat  \n",
       "0     8.1  757074              333.13       76.0  Excellent  "
      ]
     },
     "execution_count": 46,
     "metadata": {},
     "output_type": "execute_result"
    }
   ],
   "source": [
    "data.head(1)"
   ]
  },
  {
   "cell_type": "markdown",
   "id": "389a0e7a",
   "metadata": {
    "papermill": {
     "duration": 0.021572,
     "end_time": "2022-10-07T08:19:57.022634",
     "exception": false,
     "start_time": "2022-10-07T08:19:57.001062",
     "status": "completed"
    },
    "tags": []
   },
   "source": [
    "# 21. Count Number of Action Movies"
   ]
  },
  {
   "cell_type": "code",
   "execution_count": 47,
   "id": "9097e2f0",
   "metadata": {
    "execution": {
     "iopub.execute_input": "2022-10-07T08:19:57.068154Z",
     "iopub.status.busy": "2022-10-07T08:19:57.067658Z",
     "iopub.status.idle": "2022-10-07T08:19:57.075057Z",
     "shell.execute_reply": "2022-10-07T08:19:57.073627Z"
    },
    "papermill": {
     "duration": 0.033537,
     "end_time": "2022-10-07T08:19:57.077719",
     "exception": false,
     "start_time": "2022-10-07T08:19:57.044182",
     "status": "completed"
    },
    "tags": []
   },
   "outputs": [],
   "source": [
    "list1=[]\n",
    "for value in data['Genre']:\n",
    "    list1.append(value.split(','))"
   ]
  },
  {
   "cell_type": "code",
   "execution_count": 48,
   "id": "7c24695e",
   "metadata": {
    "execution": {
     "iopub.execute_input": "2022-10-07T08:19:57.124504Z",
     "iopub.status.busy": "2022-10-07T08:19:57.123038Z",
     "iopub.status.idle": "2022-10-07T08:19:57.129848Z",
     "shell.execute_reply": "2022-10-07T08:19:57.128735Z"
    },
    "papermill": {
     "duration": 0.033216,
     "end_time": "2022-10-07T08:19:57.132709",
     "exception": false,
     "start_time": "2022-10-07T08:19:57.099493",
     "status": "completed"
    },
    "tags": []
   },
   "outputs": [],
   "source": [
    "data['temp']=list1"
   ]
  },
  {
   "cell_type": "code",
   "execution_count": 49,
   "id": "873a7c21",
   "metadata": {
    "execution": {
     "iopub.execute_input": "2022-10-07T08:19:57.179451Z",
     "iopub.status.busy": "2022-10-07T08:19:57.178874Z",
     "iopub.status.idle": "2022-10-07T08:19:57.290963Z",
     "shell.execute_reply": "2022-10-07T08:19:57.289268Z"
    },
    "papermill": {
     "duration": 0.13803,
     "end_time": "2022-10-07T08:19:57.293393",
     "exception": true,
     "start_time": "2022-10-07T08:19:57.155363",
     "status": "failed"
    },
    "tags": []
   },
   "outputs": [
    {
     "name": "stdout",
     "output_type": "stream",
     "text": [
      "Enter Genre you want to count : Action\n",
      "Total Count is 277\n"
     ]
    }
   ],
   "source": [
    "genre=input(\"Enter Genre you want to count : \").title()\n",
    "count=0\n",
    "for value in data['temp']:\n",
    "    if genre in value:\n",
    "        count=count+1\n",
    "print(\"Total Count is\",count)"
   ]
  },
  {
   "cell_type": "markdown",
   "id": "022fdf95",
   "metadata": {
    "papermill": {
     "duration": null,
     "end_time": null,
     "exception": null,
     "start_time": null,
     "status": "pending"
    },
    "tags": []
   },
   "source": [
    "# OR"
   ]
  },
  {
   "cell_type": "code",
   "execution_count": 50,
   "id": "800dff79",
   "metadata": {
    "execution": {
     "iopub.execute_input": "2022-10-07T08:06:23.987806Z",
     "iopub.status.busy": "2022-10-07T08:06:23.987360Z",
     "iopub.status.idle": "2022-10-07T08:06:24.000377Z",
     "shell.execute_reply": "2022-10-07T08:06:23.999005Z",
     "shell.execute_reply.started": "2022-10-07T08:06:23.987745Z"
    },
    "papermill": {
     "duration": null,
     "end_time": null,
     "exception": null,
     "start_time": null,
     "status": "pending"
    },
    "tags": []
   },
   "outputs": [
    {
     "data": {
      "text/plain": [
       "277"
      ]
     },
     "execution_count": 50,
     "metadata": {},
     "output_type": "execute_result"
    }
   ],
   "source": [
    "len(data[data['Genre'].str.contains('action',case=False)])"
   ]
  },
  {
   "cell_type": "markdown",
   "id": "7b0dbaa9",
   "metadata": {
    "papermill": {
     "duration": null,
     "end_time": null,
     "exception": null,
     "start_time": null,
     "status": "pending"
    },
    "tags": []
   },
   "source": [
    " # 22. Find All Unique Values From Genre "
   ]
  },
  {
   "cell_type": "code",
   "execution_count": 51,
   "id": "9bdee177",
   "metadata": {},
   "outputs": [
    {
     "data": {
      "text/plain": [
       "Index(['Rank', 'Title', 'Genre', 'Description', 'Director', 'Actors', 'Year',\n",
       "       'Runtime (Minutes)', 'Rating', 'Votes', 'Revenue (Millions)',\n",
       "       'Metascore', 'rating_cat', 'temp'],\n",
       "      dtype='object')"
      ]
     },
     "execution_count": 51,
     "metadata": {},
     "output_type": "execute_result"
    }
   ],
   "source": [
    "data.columns"
   ]
  },
  {
   "cell_type": "code",
   "execution_count": 81,
   "id": "a94f6c55",
   "metadata": {
    "scrolled": true
   },
   "outputs": [
    {
     "data": {
      "text/plain": [
       "0        Action\n",
       "1     Adventure\n",
       "2        Sci-Fi\n",
       "3       Mystery\n",
       "4        Horror\n",
       "5      Thriller\n",
       "6     Animation\n",
       "7        Comedy\n",
       "8        Family\n",
       "9       Fantasy\n",
       "10        Drama\n",
       "11        Music\n",
       "12    Biography\n",
       "13      Romance\n",
       "14      History\n",
       "15      Western\n",
       "16        Crime\n",
       "17          War\n",
       "18      Musical\n",
       "19        Sport\n",
       "dtype: object"
      ]
     },
     "execution_count": 81,
     "metadata": {},
     "output_type": "execute_result"
    }
   ],
   "source": [
    "gen= data['Genre'].str.split(',').explode()\n",
    "pd.Series(gen.unique())"
   ]
  },
  {
   "cell_type": "markdown",
   "id": "16584e63",
   "metadata": {},
   "source": [
    " # 23. How Many Films of Each Genre Were Made?"
   ]
  },
  {
   "cell_type": "code",
   "execution_count": 83,
   "id": "d7a886bc",
   "metadata": {},
   "outputs": [
    {
     "data": {
      "text/plain": [
       "Genre\n",
       "Drama        419\n",
       "Action       277\n",
       "Comedy       250\n",
       "Adventure    244\n",
       "Thriller     148\n",
       "Crime        126\n",
       "Romance      120\n",
       "Sci-Fi       107\n",
       "Fantasy       92\n",
       "Horror        87\n",
       "Mystery       86\n",
       "Biography     67\n",
       "Family        48\n",
       "Animation     45\n",
       "History       25\n",
       "Music         15\n",
       "Sport         15\n",
       "War           10\n",
       "Musical        5\n",
       "Western        4\n",
       "Name: count, dtype: int64"
      ]
     },
     "execution_count": 83,
     "metadata": {},
     "output_type": "execute_result"
    }
   ],
   "source": [
    "gen.value_counts()"
   ]
  },
  {
   "cell_type": "code",
   "execution_count": null,
   "id": "a3fbd08d",
   "metadata": {},
   "outputs": [],
   "source": []
  }
 ],
 "metadata": {
  "kernelspec": {
   "display_name": "Python 3 (ipykernel)",
   "language": "python",
   "name": "python3"
  },
  "language_info": {
   "codemirror_mode": {
    "name": "ipython",
    "version": 3
   },
   "file_extension": ".py",
   "mimetype": "text/x-python",
   "name": "python",
   "nbconvert_exporter": "python",
   "pygments_lexer": "ipython3",
   "version": "3.11.5"
  },
  "papermill": {
   "default_parameters": {},
   "duration": 18.912665,
   "end_time": "2022-10-07T08:19:58.443340",
   "environment_variables": {},
   "exception": true,
   "input_path": "__notebook__.ipynb",
   "output_path": "__notebook__.ipynb",
   "parameters": {},
   "start_time": "2022-10-07T08:19:39.530675",
   "version": "2.3.4"
  }
 },
 "nbformat": 4,
 "nbformat_minor": 5
}
